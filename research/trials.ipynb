{
 "cells": [
  {
   "cell_type": "code",
   "execution_count": 5,
   "metadata": {},
   "outputs": [
    {
     "name": "stdout",
     "output_type": "stream",
     "text": [
      "hello\n"
     ]
    }
   ],
   "source": [
    "print(\"hello\")"
   ]
  },
  {
   "cell_type": "code",
   "execution_count": 6,
   "metadata": {},
   "outputs": [
    {
     "data": {
      "text/plain": [
       "'c:\\\\Users\\\\kusha\\\\OneDrive\\\\Desktop\\\\projects\\\\Major\\\\project\\\\Major\\\\research'"
      ]
     },
     "execution_count": 6,
     "metadata": {},
     "output_type": "execute_result"
    }
   ],
   "source": [
    "%pwd"
   ]
  },
  {
   "cell_type": "code",
   "execution_count": 7,
   "metadata": {},
   "outputs": [],
   "source": [
    "import os\n",
    "\n",
    "os.chdir(\"../\")"
   ]
  },
  {
   "cell_type": "code",
   "execution_count": 8,
   "metadata": {},
   "outputs": [
    {
     "data": {
      "text/plain": [
       "'c:\\\\Users\\\\kusha\\\\OneDrive\\\\Desktop\\\\projects\\\\Major\\\\project\\\\Major'"
      ]
     },
     "execution_count": 8,
     "metadata": {},
     "output_type": "execute_result"
    }
   ],
   "source": [
    "%pwd"
   ]
  },
  {
   "cell_type": "code",
   "execution_count": 10,
   "metadata": {},
   "outputs": [],
   "source": [
    "p=\"requirements.txt\""
   ]
  },
  {
   "cell_type": "code",
   "execution_count": 14,
   "metadata": {},
   "outputs": [
    {
     "name": "stdout",
     "output_type": "stream",
     "text": [
      "Collecting sentence-transformers==2.2.2\n",
      "  Using cached sentence-transformers-2.2.2.tar.gz (85 kB)\n",
      "  Preparing metadata (setup.py): started\n",
      "  Preparing metadata (setup.py): finished with status 'done'\n",
      "Requirement already satisfied: transformers<5.0.0,>=4.6.0 in c:\\users\\kusha\\anaconda3\\lib\\site-packages (from sentence-transformers==2.2.2) (4.32.1)\n",
      "Requirement already satisfied: tqdm in c:\\users\\kusha\\anaconda3\\lib\\site-packages (from sentence-transformers==2.2.2) (4.65.0)\n",
      "Collecting torch>=1.6.0 (from sentence-transformers==2.2.2)\n",
      "  Obtaining dependency information for torch>=1.6.0 from https://files.pythonhosted.org/packages/11/c5/2370d96b31eb1841c3a0883a492c15278a6718ccad61bb6a649c80d1d9eb/torch-2.6.0-cp311-cp311-win_amd64.whl.metadata\n",
      "  Downloading torch-2.6.0-cp311-cp311-win_amd64.whl.metadata (28 kB)\n",
      "Collecting torchvision (from sentence-transformers==2.2.2)\n",
      "  Obtaining dependency information for torchvision from https://files.pythonhosted.org/packages/88/53/4ad334b9b1d8dd99836869fec139cb74a27781298360b91b9506c53f1d10/torchvision-0.21.0-cp311-cp311-win_amd64.whl.metadata\n",
      "  Downloading torchvision-0.21.0-cp311-cp311-win_amd64.whl.metadata (6.3 kB)\n",
      "Requirement already satisfied: numpy in c:\\users\\kusha\\anaconda3\\lib\\site-packages (from sentence-transformers==2.2.2) (1.24.3)\n",
      "Requirement already satisfied: scikit-learn in c:\\users\\kusha\\anaconda3\\lib\\site-packages (from sentence-transformers==2.2.2) (1.3.0)\n",
      "Requirement already satisfied: scipy in c:\\users\\kusha\\anaconda3\\lib\\site-packages (from sentence-transformers==2.2.2) (1.11.1)\n",
      "Requirement already satisfied: nltk in c:\\users\\kusha\\anaconda3\\lib\\site-packages (from sentence-transformers==2.2.2) (3.8.1)\n",
      "Collecting sentencepiece (from sentence-transformers==2.2.2)\n",
      "  Obtaining dependency information for sentencepiece from https://files.pythonhosted.org/packages/a2/f6/587c62fd21fc988555b85351f50bbde43a51524caafd63bc69240ded14fd/sentencepiece-0.2.0-cp311-cp311-win_amd64.whl.metadata\n",
      "  Downloading sentencepiece-0.2.0-cp311-cp311-win_amd64.whl.metadata (8.3 kB)\n",
      "Requirement already satisfied: huggingface-hub>=0.4.0 in c:\\users\\kusha\\anaconda3\\lib\\site-packages (from sentence-transformers==2.2.2) (0.15.1)\n",
      "Requirement already satisfied: filelock in c:\\users\\kusha\\anaconda3\\lib\\site-packages (from huggingface-hub>=0.4.0->sentence-transformers==2.2.2) (3.9.0)\n",
      "Requirement already satisfied: fsspec in c:\\users\\kusha\\anaconda3\\lib\\site-packages (from huggingface-hub>=0.4.0->sentence-transformers==2.2.2) (2023.4.0)\n",
      "Requirement already satisfied: requests in c:\\users\\kusha\\anaconda3\\lib\\site-packages (from huggingface-hub>=0.4.0->sentence-transformers==2.2.2) (2.31.0)\n",
      "Requirement already satisfied: pyyaml>=5.1 in c:\\users\\kusha\\anaconda3\\lib\\site-packages (from huggingface-hub>=0.4.0->sentence-transformers==2.2.2) (6.0)\n",
      "Requirement already satisfied: typing-extensions>=3.7.4.3 in c:\\users\\kusha\\anaconda3\\lib\\site-packages (from huggingface-hub>=0.4.0->sentence-transformers==2.2.2) (4.12.2)\n",
      "Requirement already satisfied: packaging>=20.9 in c:\\users\\kusha\\anaconda3\\lib\\site-packages (from huggingface-hub>=0.4.0->sentence-transformers==2.2.2) (24.2)\n",
      "Requirement already satisfied: networkx in c:\\users\\kusha\\anaconda3\\lib\\site-packages (from torch>=1.6.0->sentence-transformers==2.2.2) (3.1)\n",
      "Requirement already satisfied: jinja2 in c:\\users\\kusha\\anaconda3\\lib\\site-packages (from torch>=1.6.0->sentence-transformers==2.2.2) (3.1.2)\n",
      "Collecting sympy==1.13.1 (from torch>=1.6.0->sentence-transformers==2.2.2)\n",
      "  Obtaining dependency information for sympy==1.13.1 from https://files.pythonhosted.org/packages/b2/fe/81695a1aa331a842b582453b605175f419fe8540355886031328089d840a/sympy-1.13.1-py3-none-any.whl.metadata\n",
      "  Downloading sympy-1.13.1-py3-none-any.whl.metadata (12 kB)\n",
      "Requirement already satisfied: mpmath<1.4,>=1.1.0 in c:\\users\\kusha\\anaconda3\\lib\\site-packages (from sympy==1.13.1->torch>=1.6.0->sentence-transformers==2.2.2) (1.3.0)\n",
      "Requirement already satisfied: colorama in c:\\users\\kusha\\anaconda3\\lib\\site-packages (from tqdm->sentence-transformers==2.2.2) (0.4.6)\n",
      "Requirement already satisfied: regex!=2019.12.17 in c:\\users\\kusha\\anaconda3\\lib\\site-packages (from transformers<5.0.0,>=4.6.0->sentence-transformers==2.2.2) (2022.7.9)\n",
      "Requirement already satisfied: tokenizers!=0.11.3,<0.14,>=0.11.1 in c:\\users\\kusha\\anaconda3\\lib\\site-packages (from transformers<5.0.0,>=4.6.0->sentence-transformers==2.2.2) (0.13.2)\n",
      "Requirement already satisfied: safetensors>=0.3.1 in c:\\users\\kusha\\anaconda3\\lib\\site-packages (from transformers<5.0.0,>=4.6.0->sentence-transformers==2.2.2) (0.3.2)\n",
      "Requirement already satisfied: click in c:\\users\\kusha\\anaconda3\\lib\\site-packages (from nltk->sentence-transformers==2.2.2) (8.0.4)\n",
      "Requirement already satisfied: joblib in c:\\users\\kusha\\anaconda3\\lib\\site-packages (from nltk->sentence-transformers==2.2.2) (1.2.0)\n",
      "Requirement already satisfied: threadpoolctl>=2.0.0 in c:\\users\\kusha\\anaconda3\\lib\\site-packages (from scikit-learn->sentence-transformers==2.2.2) (2.2.0)\n",
      "Requirement already satisfied: pillow!=8.3.*,>=5.3.0 in c:\\users\\kusha\\anaconda3\\lib\\site-packages (from torchvision->sentence-transformers==2.2.2) (9.4.0)\n",
      "Requirement already satisfied: MarkupSafe>=2.0 in c:\\users\\kusha\\anaconda3\\lib\\site-packages (from jinja2->torch>=1.6.0->sentence-transformers==2.2.2) (2.1.1)\n",
      "Requirement already satisfied: charset-normalizer<4,>=2 in c:\\users\\kusha\\anaconda3\\lib\\site-packages (from requests->huggingface-hub>=0.4.0->sentence-transformers==2.2.2) (2.0.4)\n",
      "Requirement already satisfied: idna<4,>=2.5 in c:\\users\\kusha\\anaconda3\\lib\\site-packages (from requests->huggingface-hub>=0.4.0->sentence-transformers==2.2.2) (3.4)\n",
      "Requirement already satisfied: urllib3<3,>=1.21.1 in c:\\users\\kusha\\anaconda3\\lib\\site-packages (from requests->huggingface-hub>=0.4.0->sentence-transformers==2.2.2) (1.26.16)\n",
      "Requirement already satisfied: certifi>=2017.4.17 in c:\\users\\kusha\\anaconda3\\lib\\site-packages (from requests->huggingface-hub>=0.4.0->sentence-transformers==2.2.2) (2023.7.22)\n",
      "Downloading torch-2.6.0-cp311-cp311-win_amd64.whl (204.2 MB)\n",
      "   ---------------------------------------- 0.0/204.2 MB ? eta -:--:--\n",
      "   ---------------------------------------- 0.1/204.2 MB 3.0 MB/s eta 0:01:09\n",
      "   ---------------------------------------- 0.6/204.2 MB 8.1 MB/s eta 0:00:26\n",
      "   ---------------------------------------- 1.7/204.2 MB 13.3 MB/s eta 0:00:16\n",
      "    --------------------------------------- 3.1/204.2 MB 18.2 MB/s eta 0:00:12\n",
      "    --------------------------------------- 4.1/204.2 MB 18.9 MB/s eta 0:00:11\n",
      "    --------------------------------------- 4.9/204.2 MB 19.7 MB/s eta 0:00:11\n",
      "   - -------------------------------------- 5.9/204.2 MB 19.8 MB/s eta 0:00:11\n",
      "   - -------------------------------------- 7.1/204.2 MB 19.8 MB/s eta 0:00:10\n",
      "   - -------------------------------------- 7.9/204.2 MB 20.2 MB/s eta 0:00:10\n",
      "   - -------------------------------------- 9.1/204.2 MB 20.7 MB/s eta 0:00:10\n",
      "   - -------------------------------------- 10.2/204.2 MB 20.4 MB/s eta 0:00:10\n",
      "   -- ------------------------------------- 11.4/204.2 MB 23.4 MB/s eta 0:00:09\n",
      "   -- ------------------------------------- 13.1/204.2 MB 23.4 MB/s eta 0:00:09\n",
      "   -- ------------------------------------- 14.7/204.2 MB 26.2 MB/s eta 0:00:08\n",
      "   -- ------------------------------------- 15.1/204.2 MB 26.2 MB/s eta 0:00:08\n",
      "   --- ------------------------------------ 16.0/204.2 MB 24.3 MB/s eta 0:00:08\n",
      "   --- ------------------------------------ 17.3/204.2 MB 24.2 MB/s eta 0:00:08\n",
      "   --- ------------------------------------ 19.2/204.2 MB 27.3 MB/s eta 0:00:07\n",
      "   --- ------------------------------------ 19.8/204.2 MB 26.2 MB/s eta 0:00:08\n",
      "   ---- ----------------------------------- 20.9/204.2 MB 26.2 MB/s eta 0:00:08\n",
      "   ---- ----------------------------------- 22.6/204.2 MB 26.2 MB/s eta 0:00:07\n",
      "   ---- ----------------------------------- 24.1/204.2 MB 26.2 MB/s eta 0:00:07\n",
      "   ---- ----------------------------------- 25.3/204.2 MB 25.1 MB/s eta 0:00:08\n",
      "   ----- ---------------------------------- 26.7/204.2 MB 31.2 MB/s eta 0:00:06\n",
      "   ----- ---------------------------------- 27.8/204.2 MB 28.5 MB/s eta 0:00:07\n",
      "   ----- ---------------------------------- 29.5/204.2 MB 28.5 MB/s eta 0:00:07\n",
      "   ------ --------------------------------- 31.4/204.2 MB 32.8 MB/s eta 0:00:06\n",
      "   ------ --------------------------------- 33.5/204.2 MB 34.4 MB/s eta 0:00:05\n",
      "   ------ --------------------------------- 35.4/204.2 MB 36.4 MB/s eta 0:00:05\n",
      "   ------- -------------------------------- 37.4/204.2 MB 40.9 MB/s eta 0:00:05\n",
      "   ------- -------------------------------- 38.4/204.2 MB 40.9 MB/s eta 0:00:05\n",
      "   ------- -------------------------------- 40.1/204.2 MB 38.6 MB/s eta 0:00:05\n",
      "   ------- -------------------------------- 40.7/204.2 MB 34.4 MB/s eta 0:00:05\n",
      "   -------- ------------------------------- 41.3/204.2 MB 31.2 MB/s eta 0:00:06\n",
      "   -------- ------------------------------- 42.0/204.2 MB 28.5 MB/s eta 0:00:06\n",
      "   -------- ------------------------------- 42.6/204.2 MB 26.2 MB/s eta 0:00:07\n",
      "   -------- ------------------------------- 43.1/204.2 MB 23.4 MB/s eta 0:00:07\n",
      "   -------- ------------------------------- 43.7/204.2 MB 21.8 MB/s eta 0:00:08\n",
      "   -------- ------------------------------- 44.3/204.2 MB 20.5 MB/s eta 0:00:08\n",
      "   -------- ------------------------------- 45.0/204.2 MB 19.3 MB/s eta 0:00:09\n",
      "   -------- ------------------------------- 45.6/204.2 MB 18.2 MB/s eta 0:00:09\n",
      "   --------- ------------------------------ 46.2/204.2 MB 17.7 MB/s eta 0:00:09\n",
      "   --------- ------------------------------ 46.8/204.2 MB 16.8 MB/s eta 0:00:10\n",
      "   --------- ------------------------------ 47.5/204.2 MB 15.6 MB/s eta 0:00:11\n",
      "   --------- ------------------------------ 48.1/204.2 MB 14.9 MB/s eta 0:00:11\n",
      "   --------- ------------------------------ 48.8/204.2 MB 14.9 MB/s eta 0:00:11\n",
      "   --------- ------------------------------ 49.3/204.2 MB 13.9 MB/s eta 0:00:12\n",
      "   --------- ------------------------------ 50.0/204.2 MB 13.6 MB/s eta 0:00:12\n",
      "   --------- ------------------------------ 50.6/204.2 MB 13.4 MB/s eta 0:00:12\n",
      "   --------- ------------------------------ 50.9/204.2 MB 13.4 MB/s eta 0:00:12\n",
      "   ---------- ----------------------------- 51.5/204.2 MB 12.8 MB/s eta 0:00:12\n",
      "   ---------- ----------------------------- 52.2/204.2 MB 13.1 MB/s eta 0:00:12\n",
      "   ---------- ----------------------------- 52.9/204.2 MB 13.4 MB/s eta 0:00:12\n",
      "   ---------- ----------------------------- 53.5/204.2 MB 13.1 MB/s eta 0:00:12\n",
      "   ---------- ----------------------------- 54.2/204.2 MB 13.4 MB/s eta 0:00:12\n",
      "   ---------- ----------------------------- 54.8/204.2 MB 13.4 MB/s eta 0:00:12\n",
      "   ---------- ----------------------------- 55.5/204.2 MB 13.4 MB/s eta 0:00:12\n",
      "   ----------- ---------------------------- 56.2/204.2 MB 13.4 MB/s eta 0:00:12\n",
      "   ----------- ---------------------------- 56.9/204.2 MB 13.4 MB/s eta 0:00:12\n",
      "   ----------- ---------------------------- 57.6/204.2 MB 13.6 MB/s eta 0:00:11\n",
      "   ----------- ---------------------------- 58.4/204.2 MB 13.9 MB/s eta 0:00:11\n",
      "   ----------- ---------------------------- 59.0/204.2 MB 13.9 MB/s eta 0:00:11\n",
      "   ----------- ---------------------------- 59.7/204.2 MB 13.9 MB/s eta 0:00:11\n",
      "   ----------- ---------------------------- 60.5/204.2 MB 13.9 MB/s eta 0:00:11\n",
      "   ----------- ---------------------------- 61.2/204.2 MB 14.6 MB/s eta 0:00:10\n",
      "   ------------ --------------------------- 61.8/204.2 MB 14.6 MB/s eta 0:00:10\n",
      "   ------------ --------------------------- 62.4/204.2 MB 14.9 MB/s eta 0:00:10\n",
      "   ------------ --------------------------- 62.7/204.2 MB 14.2 MB/s eta 0:00:10\n",
      "   ------------ --------------------------- 63.3/204.2 MB 14.2 MB/s eta 0:00:10\n",
      "   ------------ --------------------------- 63.9/204.2 MB 14.2 MB/s eta 0:00:10\n",
      "   ------------ --------------------------- 64.6/204.2 MB 13.9 MB/s eta 0:00:11\n",
      "   ------------ --------------------------- 65.1/204.2 MB 13.6 MB/s eta 0:00:11\n",
      "   ------------ --------------------------- 65.5/204.2 MB 13.4 MB/s eta 0:00:11\n",
      "   ------------ --------------------------- 66.2/204.2 MB 13.4 MB/s eta 0:00:11\n",
      "   ------------- -------------------------- 66.8/204.2 MB 13.4 MB/s eta 0:00:11\n",
      "   ------------- -------------------------- 67.4/204.2 MB 13.4 MB/s eta 0:00:11\n",
      "   ------------- -------------------------- 67.9/204.2 MB 12.8 MB/s eta 0:00:11\n",
      "   ------------- -------------------------- 68.6/204.2 MB 12.8 MB/s eta 0:00:11\n",
      "   ------------- -------------------------- 69.2/204.2 MB 12.6 MB/s eta 0:00:11\n",
      "   ------------- -------------------------- 69.8/204.2 MB 12.6 MB/s eta 0:00:11\n",
      "   ------------- -------------------------- 70.5/204.2 MB 12.6 MB/s eta 0:00:11\n",
      "   ------------- -------------------------- 71.2/204.2 MB 12.6 MB/s eta 0:00:11\n",
      "   -------------- ------------------------- 72.0/204.2 MB 12.8 MB/s eta 0:00:11\n",
      "   -------------- ------------------------- 72.8/204.2 MB 13.1 MB/s eta 0:00:11\n",
      "   -------------- ------------------------- 73.5/204.2 MB 13.4 MB/s eta 0:00:10\n",
      "   -------------- ------------------------- 74.3/204.2 MB 13.9 MB/s eta 0:00:10\n",
      "   -------------- ------------------------- 75.1/204.2 MB 14.2 MB/s eta 0:00:10\n",
      "   -------------- ------------------------- 75.8/204.2 MB 14.6 MB/s eta 0:00:09\n",
      "   --------------- ------------------------ 76.6/204.2 MB 14.9 MB/s eta 0:00:09\n",
      "   --------------- ------------------------ 77.3/204.2 MB 15.2 MB/s eta 0:00:09\n",
      "   --------------- ------------------------ 78.0/204.2 MB 15.6 MB/s eta 0:00:09\n",
      "   --------------- ------------------------ 78.8/204.2 MB 15.6 MB/s eta 0:00:09\n",
      "   --------------- ------------------------ 79.6/204.2 MB 16.0 MB/s eta 0:00:08\n",
      "   --------------- ------------------------ 80.1/204.2 MB 16.0 MB/s eta 0:00:08\n",
      "   --------------- ------------------------ 80.8/204.2 MB 15.6 MB/s eta 0:00:08\n",
      "   --------------- ------------------------ 81.4/204.2 MB 15.2 MB/s eta 0:00:09\n",
      "   ---------------- ----------------------- 82.0/204.2 MB 15.2 MB/s eta 0:00:09\n",
      "   ---------------- ----------------------- 82.6/204.2 MB 14.9 MB/s eta 0:00:09\n",
      "   ---------------- ----------------------- 83.2/204.2 MB 14.6 MB/s eta 0:00:09\n",
      "   ---------------- ----------------------- 83.7/204.2 MB 14.9 MB/s eta 0:00:09\n",
      "   ---------------- ----------------------- 84.3/204.2 MB 14.2 MB/s eta 0:00:09\n",
      "   ---------------- ----------------------- 84.9/204.2 MB 13.9 MB/s eta 0:00:09\n",
      "   ---------------- ----------------------- 85.5/204.2 MB 13.9 MB/s eta 0:00:09\n",
      "   ---------------- ----------------------- 86.1/204.2 MB 13.9 MB/s eta 0:00:09\n",
      "   ---------------- ----------------------- 86.7/204.2 MB 13.6 MB/s eta 0:00:09\n",
      "   ----------------- ---------------------- 87.3/204.2 MB 13.6 MB/s eta 0:00:09\n",
      "   ----------------- ---------------------- 87.9/204.2 MB 13.4 MB/s eta 0:00:09\n",
      "   ----------------- ---------------------- 88.6/204.2 MB 13.4 MB/s eta 0:00:09\n",
      "   ----------------- ---------------------- 89.1/204.2 MB 13.1 MB/s eta 0:00:09\n",
      "   ----------------- ---------------------- 89.8/204.2 MB 12.8 MB/s eta 0:00:09\n",
      "   ----------------- ---------------------- 90.4/204.2 MB 13.1 MB/s eta 0:00:09\n",
      "   ----------------- ---------------------- 91.0/204.2 MB 12.8 MB/s eta 0:00:09\n",
      "   ----------------- ---------------------- 91.7/204.2 MB 13.1 MB/s eta 0:00:09\n",
      "   ------------------ --------------------- 92.2/204.2 MB 13.1 MB/s eta 0:00:09\n",
      "   ------------------ --------------------- 92.5/204.2 MB 12.8 MB/s eta 0:00:09\n",
      "   ------------------ --------------------- 92.8/204.2 MB 12.4 MB/s eta 0:00:10\n",
      "   ------------------ --------------------- 93.5/204.2 MB 12.4 MB/s eta 0:00:09\n",
      "   ------------------ --------------------- 94.1/204.2 MB 12.4 MB/s eta 0:00:09\n",
      "   ------------------ --------------------- 94.8/204.2 MB 12.6 MB/s eta 0:00:09\n",
      "   ------------------ --------------------- 95.5/204.2 MB 12.6 MB/s eta 0:00:09\n",
      "   ------------------ --------------------- 96.1/204.2 MB 12.6 MB/s eta 0:00:09\n",
      "   ------------------ --------------------- 96.8/204.2 MB 12.8 MB/s eta 0:00:09\n",
      "   ------------------- -------------------- 97.5/204.2 MB 12.9 MB/s eta 0:00:09\n",
      "   ------------------- -------------------- 98.2/204.2 MB 12.8 MB/s eta 0:00:09\n",
      "   ------------------- -------------------- 98.7/204.2 MB 13.1 MB/s eta 0:00:09\n",
      "   ------------------- -------------------- 99.5/204.2 MB 13.1 MB/s eta 0:00:08\n",
      "   ------------------- ------------------- 100.1/204.2 MB 13.1 MB/s eta 0:00:08\n",
      "   ------------------- ------------------- 100.9/204.2 MB 13.1 MB/s eta 0:00:08\n",
      "   ------------------- ------------------- 101.6/204.2 MB 13.4 MB/s eta 0:00:08\n",
      "   ------------------- ------------------- 102.3/204.2 MB 13.4 MB/s eta 0:00:08\n",
      "   ------------------- ------------------- 103.0/204.2 MB 14.6 MB/s eta 0:00:07\n",
      "   ------------------- ------------------- 103.7/204.2 MB 14.6 MB/s eta 0:00:07\n",
      "   ------------------- ------------------- 104.4/204.2 MB 14.9 MB/s eta 0:00:07\n",
      "   -------------------- ------------------ 105.2/204.2 MB 14.9 MB/s eta 0:00:07\n",
      "   -------------------- ------------------ 105.9/204.2 MB 14.9 MB/s eta 0:00:07\n",
      "   -------------------- ------------------ 106.5/204.2 MB 14.6 MB/s eta 0:00:07\n",
      "   -------------------- ------------------ 107.1/204.2 MB 14.6 MB/s eta 0:00:07\n",
      "   -------------------- ------------------ 107.8/204.2 MB 14.5 MB/s eta 0:00:07\n",
      "   -------------------- ------------------ 108.4/204.2 MB 14.6 MB/s eta 0:00:07\n",
      "   -------------------- ------------------ 109.1/204.2 MB 14.6 MB/s eta 0:00:07\n",
      "   -------------------- ------------------ 109.6/204.2 MB 14.2 MB/s eta 0:00:07\n",
      "   --------------------- ----------------- 110.4/204.2 MB 14.6 MB/s eta 0:00:07\n",
      "   --------------------- ----------------- 111.0/204.2 MB 14.6 MB/s eta 0:00:07\n",
      "   --------------------- ----------------- 111.7/204.2 MB 14.6 MB/s eta 0:00:07\n",
      "   --------------------- ----------------- 112.4/204.2 MB 14.2 MB/s eta 0:00:07\n",
      "   --------------------- ----------------- 113.1/204.2 MB 14.5 MB/s eta 0:00:07\n",
      "   --------------------- ----------------- 113.9/204.2 MB 14.6 MB/s eta 0:00:07\n",
      "   --------------------- ----------------- 114.5/204.2 MB 14.2 MB/s eta 0:00:07\n",
      "   --------------------- ----------------- 115.1/204.2 MB 14.2 MB/s eta 0:00:07\n",
      "   ---------------------- ---------------- 115.8/204.2 MB 14.2 MB/s eta 0:00:07\n",
      "   ---------------------- ---------------- 116.5/204.2 MB 14.2 MB/s eta 0:00:07\n",
      "   ---------------------- ---------------- 117.0/204.2 MB 13.9 MB/s eta 0:00:07\n",
      "   ---------------------- ---------------- 117.7/204.2 MB 14.2 MB/s eta 0:00:07\n",
      "   ---------------------- ---------------- 118.4/204.2 MB 14.2 MB/s eta 0:00:07\n",
      "   ---------------------- ---------------- 119.1/204.2 MB 14.2 MB/s eta 0:00:06\n",
      "   ---------------------- ---------------- 119.8/204.2 MB 14.2 MB/s eta 0:00:06\n",
      "   ----------------------- --------------- 120.6/204.2 MB 14.6 MB/s eta 0:00:06\n",
      "   ----------------------- --------------- 121.2/204.2 MB 14.6 MB/s eta 0:00:06\n",
      "   ----------------------- --------------- 121.9/204.2 MB 14.6 MB/s eta 0:00:06\n",
      "   ----------------------- --------------- 122.6/204.2 MB 14.6 MB/s eta 0:00:06\n",
      "   ----------------------- --------------- 123.4/204.2 MB 14.6 MB/s eta 0:00:06\n",
      "   ----------------------- --------------- 124.1/204.2 MB 14.5 MB/s eta 0:00:06\n",
      "   ----------------------- --------------- 124.8/204.2 MB 15.2 MB/s eta 0:00:06\n",
      "   ----------------------- --------------- 125.5/204.2 MB 15.2 MB/s eta 0:00:06\n",
      "   ------------------------ -------------- 126.2/204.2 MB 14.9 MB/s eta 0:00:06\n",
      "   ------------------------ -------------- 126.9/204.2 MB 14.9 MB/s eta 0:00:06\n",
      "   ------------------------ -------------- 127.6/204.2 MB 15.2 MB/s eta 0:00:06\n",
      "   ------------------------ -------------- 128.2/204.2 MB 15.2 MB/s eta 0:00:05\n",
      "   ------------------------ -------------- 129.1/204.2 MB 14.9 MB/s eta 0:00:06\n",
      "   ------------------------ -------------- 129.9/204.2 MB 15.2 MB/s eta 0:00:05\n",
      "   ------------------------ -------------- 130.6/204.2 MB 15.2 MB/s eta 0:00:05\n",
      "   ------------------------- ------------- 131.3/204.2 MB 15.2 MB/s eta 0:00:05\n",
      "   ------------------------- ------------- 132.1/204.2 MB 15.2 MB/s eta 0:00:05\n",
      "   ------------------------- ------------- 132.9/204.2 MB 16.0 MB/s eta 0:00:05\n",
      "   ------------------------- ------------- 133.6/204.2 MB 16.0 MB/s eta 0:00:05\n",
      "   ------------------------- ------------- 134.4/204.2 MB 16.0 MB/s eta 0:00:05\n",
      "   ------------------------- ------------- 135.2/204.2 MB 16.0 MB/s eta 0:00:05\n",
      "   ------------------------- ------------- 136.1/204.2 MB 16.0 MB/s eta 0:00:05\n",
      "   -------------------------- ------------ 136.8/204.2 MB 16.0 MB/s eta 0:00:05\n",
      "   -------------------------- ------------ 137.6/204.2 MB 16.8 MB/s eta 0:00:04\n",
      "   -------------------------- ------------ 138.4/204.2 MB 16.8 MB/s eta 0:00:04\n",
      "   -------------------------- ------------ 139.2/204.2 MB 16.4 MB/s eta 0:00:04\n",
      "   -------------------------- ------------ 139.9/204.2 MB 16.8 MB/s eta 0:00:04\n",
      "   -------------------------- ------------ 140.7/204.2 MB 16.8 MB/s eta 0:00:04\n",
      "   --------------------------- ----------- 141.6/204.2 MB 17.2 MB/s eta 0:00:04\n",
      "   --------------------------- ----------- 142.4/204.2 MB 17.2 MB/s eta 0:00:04\n",
      "   --------------------------- ----------- 143.1/204.2 MB 16.8 MB/s eta 0:00:04\n",
      "   --------------------------- ----------- 143.9/204.2 MB 17.2 MB/s eta 0:00:04\n",
      "   --------------------------- ----------- 144.7/204.2 MB 17.2 MB/s eta 0:00:04\n",
      "   --------------------------- ----------- 145.6/204.2 MB 17.3 MB/s eta 0:00:04\n",
      "   --------------------------- ----------- 146.4/204.2 MB 17.3 MB/s eta 0:00:04\n",
      "   ---------------------------- ---------- 147.2/204.2 MB 17.2 MB/s eta 0:00:04\n",
      "   ---------------------------- ---------- 148.1/204.2 MB 17.2 MB/s eta 0:00:04\n",
      "   ---------------------------- ---------- 149.0/204.2 MB 17.7 MB/s eta 0:00:04\n",
      "   ---------------------------- ---------- 149.8/204.2 MB 17.7 MB/s eta 0:00:04\n",
      "   ---------------------------- ---------- 150.6/204.2 MB 18.2 MB/s eta 0:00:03\n",
      "   ---------------------------- ---------- 151.5/204.2 MB 18.2 MB/s eta 0:00:03\n",
      "   ----------------------------- --------- 152.4/204.2 MB 18.2 MB/s eta 0:00:03\n",
      "   ----------------------------- --------- 153.2/204.2 MB 18.2 MB/s eta 0:00:03\n",
      "   ----------------------------- --------- 154.1/204.2 MB 18.2 MB/s eta 0:00:03\n",
      "   ----------------------------- --------- 155.0/204.2 MB 18.7 MB/s eta 0:00:03\n",
      "   ----------------------------- --------- 155.9/204.2 MB 18.7 MB/s eta 0:00:03\n",
      "   ----------------------------- --------- 156.8/204.2 MB 18.7 MB/s eta 0:00:03\n",
      "   ------------------------------ -------- 157.7/204.2 MB 18.7 MB/s eta 0:00:03\n",
      "   ------------------------------ -------- 158.5/204.2 MB 18.7 MB/s eta 0:00:03\n",
      "   ------------------------------ -------- 159.4/204.2 MB 18.7 MB/s eta 0:00:03\n",
      "   ------------------------------ -------- 160.3/204.2 MB 18.7 MB/s eta 0:00:03\n",
      "   ------------------------------ -------- 161.1/204.2 MB 18.7 MB/s eta 0:00:03\n",
      "   ------------------------------ -------- 162.1/204.2 MB 19.3 MB/s eta 0:00:03\n",
      "   ------------------------------- ------- 163.0/204.2 MB 19.3 MB/s eta 0:00:03\n",
      "   ------------------------------- ------- 163.7/204.2 MB 18.7 MB/s eta 0:00:03\n",
      "   ------------------------------- ------- 164.1/204.2 MB 18.7 MB/s eta 0:00:03\n",
      "   ------------------------------- ------- 164.8/204.2 MB 17.7 MB/s eta 0:00:03\n",
      "   ------------------------------- ------- 165.7/204.2 MB 17.7 MB/s eta 0:00:03\n",
      "   ------------------------------- ------- 166.4/204.2 MB 17.7 MB/s eta 0:00:03\n",
      "   ------------------------------- ------- 167.3/204.2 MB 17.2 MB/s eta 0:00:03\n",
      "   -------------------------------- ------ 168.2/204.2 MB 17.2 MB/s eta 0:00:03\n",
      "   -------------------------------- ------ 169.1/204.2 MB 17.2 MB/s eta 0:00:03\n",
      "   -------------------------------- ------ 170.0/204.2 MB 17.2 MB/s eta 0:00:02\n",
      "   -------------------------------- ------ 170.8/204.2 MB 17.2 MB/s eta 0:00:02\n",
      "   -------------------------------- ------ 171.7/204.2 MB 17.2 MB/s eta 0:00:02\n",
      "   -------------------------------- ------ 172.5/204.2 MB 17.3 MB/s eta 0:00:02\n",
      "   --------------------------------- ----- 173.5/204.2 MB 17.3 MB/s eta 0:00:02\n",
      "   --------------------------------- ----- 174.4/204.2 MB 18.7 MB/s eta 0:00:02\n",
      "   --------------------------------- ----- 175.3/204.2 MB 18.7 MB/s eta 0:00:02\n",
      "   --------------------------------- ----- 176.2/204.2 MB 19.3 MB/s eta 0:00:02\n",
      "   --------------------------------- ----- 177.1/204.2 MB 19.3 MB/s eta 0:00:02\n",
      "   ---------------------------------- ---- 178.0/204.2 MB 19.8 MB/s eta 0:00:02\n",
      "   ---------------------------------- ---- 178.9/204.2 MB 19.8 MB/s eta 0:00:02\n",
      "   ---------------------------------- ---- 179.8/204.2 MB 19.3 MB/s eta 0:00:02\n",
      "   ---------------------------------- ---- 180.8/204.2 MB 19.8 MB/s eta 0:00:02\n",
      "   ---------------------------------- ---- 181.7/204.2 MB 19.8 MB/s eta 0:00:02\n",
      "   ---------------------------------- ---- 182.5/204.2 MB 19.3 MB/s eta 0:00:02\n",
      "   ----------------------------------- --- 183.4/204.2 MB 19.3 MB/s eta 0:00:02\n",
      "   ----------------------------------- --- 184.2/204.2 MB 19.3 MB/s eta 0:00:02\n",
      "   ----------------------------------- --- 185.1/204.2 MB 19.3 MB/s eta 0:00:01\n",
      "   ----------------------------------- --- 186.1/204.2 MB 19.8 MB/s eta 0:00:01\n",
      "   ----------------------------------- --- 186.9/204.2 MB 19.3 MB/s eta 0:00:01\n",
      "   ----------------------------------- --- 187.7/204.2 MB 19.2 MB/s eta 0:00:01\n",
      "   ------------------------------------ -- 188.5/204.2 MB 19.2 MB/s eta 0:00:01\n",
      "   ------------------------------------ -- 189.1/204.2 MB 18.2 MB/s eta 0:00:01\n",
      "   ------------------------------------ -- 190.0/204.2 MB 18.2 MB/s eta 0:00:01\n",
      "   ------------------------------------ -- 190.9/204.2 MB 18.2 MB/s eta 0:00:01\n",
      "   ------------------------------------ -- 191.6/204.2 MB 17.7 MB/s eta 0:00:01\n",
      "   ------------------------------------ -- 192.7/204.2 MB 18.2 MB/s eta 0:00:01\n",
      "   ------------------------------------ -- 193.7/204.2 MB 18.7 MB/s eta 0:00:01\n",
      "   ------------------------------------- - 194.6/204.2 MB 18.7 MB/s eta 0:00:01\n",
      "   ------------------------------------- - 195.5/204.2 MB 18.7 MB/s eta 0:00:01\n",
      "   ------------------------------------- - 196.5/204.2 MB 18.7 MB/s eta 0:00:01\n",
      "   ------------------------------------- - 197.5/204.2 MB 19.3 MB/s eta 0:00:01\n",
      "   ------------------------------------- - 198.5/204.2 MB 19.3 MB/s eta 0:00:01\n",
      "   --------------------------------------  199.5/204.2 MB 20.5 MB/s eta 0:00:01\n",
      "   --------------------------------------  200.5/204.2 MB 20.5 MB/s eta 0:00:01\n",
      "   --------------------------------------  201.5/204.2 MB 21.1 MB/s eta 0:00:01\n",
      "   --------------------------------------  202.3/204.2 MB 21.1 MB/s eta 0:00:01\n",
      "   --------------------------------------  203.4/204.2 MB 21.1 MB/s eta 0:00:01\n",
      "   --------------------------------------  204.2/204.2 MB 20.5 MB/s eta 0:00:01\n",
      "   --------------------------------------  204.2/204.2 MB 20.5 MB/s eta 0:00:01\n",
      "   --------------------------------------  204.2/204.2 MB 20.5 MB/s eta 0:00:01\n",
      "   --------------------------------------  204.2/204.2 MB 20.5 MB/s eta 0:00:01\n",
      "   --------------------------------------  204.2/204.2 MB 20.5 MB/s eta 0:00:01\n",
      "   --------------------------------------  204.2/204.2 MB 20.5 MB/s eta 0:00:01\n",
      "   --------------------------------------  204.2/204.2 MB 20.5 MB/s eta 0:00:01\n",
      "   --------------------------------------  204.2/204.2 MB 20.5 MB/s eta 0:00:01\n",
      "   --------------------------------------  204.2/204.2 MB 20.5 MB/s eta 0:00:01\n",
      "   --------------------------------------  204.2/204.2 MB 20.5 MB/s eta 0:00:01\n",
      "   ---------------------------------------- 204.2/204.2 MB 8.3 MB/s eta 0:00:00\n",
      "Downloading sympy-1.13.1-py3-none-any.whl (6.2 MB)\n",
      "   ---------------------------------------- 0.0/6.2 MB ? eta -:--:--\n",
      "   ------ --------------------------------- 1.0/6.2 MB 30.4 MB/s eta 0:00:01\n",
      "   ------------ --------------------------- 1.9/6.2 MB 24.8 MB/s eta 0:00:01\n",
      "   ------------------- -------------------- 3.0/6.2 MB 23.8 MB/s eta 0:00:01\n",
      "   ------------------------ --------------- 3.9/6.2 MB 22.3 MB/s eta 0:00:01\n",
      "   ------------------------------- -------- 4.9/6.2 MB 22.4 MB/s eta 0:00:01\n",
      "   -------------------------------------- - 5.9/6.2 MB 22.2 MB/s eta 0:00:01\n",
      "   ---------------------------------------- 6.2/6.2 MB 20.8 MB/s eta 0:00:00\n",
      "Downloading sentencepiece-0.2.0-cp311-cp311-win_amd64.whl (991 kB)\n",
      "   ---------------------------------------- 0.0/991.5 kB ? eta -:--:--\n",
      "   --------------------------------- ----- 849.9/991.5 kB 17.9 MB/s eta 0:00:01\n",
      "   --------------------------------------- 991.5/991.5 kB 15.8 MB/s eta 0:00:00\n",
      "Downloading torchvision-0.21.0-cp311-cp311-win_amd64.whl (1.6 MB)\n",
      "   ---------------------------------------- 0.0/1.6 MB ? eta -:--:--\n",
      "   -------------------------- ------------- 1.0/1.6 MB 22.0 MB/s eta 0:00:01\n",
      "   ---------------------------------------- 1.6/1.6 MB 19.9 MB/s eta 0:00:00\n",
      "Building wheels for collected packages: sentence-transformers\n",
      "  Building wheel for sentence-transformers (setup.py): started\n",
      "  Building wheel for sentence-transformers (setup.py): finished with status 'done'\n",
      "  Created wheel for sentence-transformers: filename=sentence_transformers-2.2.2-py3-none-any.whl size=125960 sha256=2361d1da1738d1dd7a04ecd35928c0a70940a0422244d64e7e01a3a182653c5c\n",
      "  Stored in directory: c:\\users\\kusha\\appdata\\local\\pip\\cache\\wheels\\ff\\27\\bf\\ffba8b318b02d7f691a57084ee154e26ed24d012b0c7805881\n",
      "Successfully built sentence-transformers\n",
      "Installing collected packages: sentencepiece, sympy, torch, torchvision, sentence-transformers\n",
      "  Attempting uninstall: sympy\n",
      "    Found existing installation: sympy 1.11.1\n",
      "    Uninstalling sympy-1.11.1:\n",
      "      Successfully uninstalled sympy-1.11.1\n",
      "Successfully installed sentence-transformers-2.2.2 sentencepiece-0.2.0 sympy-1.13.1 torch-2.6.0 torchvision-0.21.0\n",
      "Note: you may need to restart the kernel to use updated packages.\n"
     ]
    }
   ],
   "source": [
    "pip install sentence-transformers==2.2.2\n"
   ]
  },
  {
   "cell_type": "code",
   "execution_count": 15,
   "metadata": {},
   "outputs": [
    {
     "name": "stdout",
     "output_type": "stream",
     "text": [
      "Requirement already satisfied: flask in c:\\users\\kusha\\anaconda3\\lib\\site-packages (2.2.2)\n",
      "Requirement already satisfied: Werkzeug>=2.2.2 in c:\\users\\kusha\\anaconda3\\lib\\site-packages (from flask) (2.2.3)\n",
      "Requirement already satisfied: Jinja2>=3.0 in c:\\users\\kusha\\anaconda3\\lib\\site-packages (from flask) (3.1.2)\n",
      "Requirement already satisfied: itsdangerous>=2.0 in c:\\users\\kusha\\anaconda3\\lib\\site-packages (from flask) (2.0.1)\n",
      "Requirement already satisfied: click>=8.0 in c:\\users\\kusha\\anaconda3\\lib\\site-packages (from flask) (8.0.4)\n",
      "Requirement already satisfied: colorama in c:\\users\\kusha\\anaconda3\\lib\\site-packages (from click>=8.0->flask) (0.4.6)\n",
      "Requirement already satisfied: MarkupSafe>=2.0 in c:\\users\\kusha\\anaconda3\\lib\\site-packages (from Jinja2>=3.0->flask) (2.1.1)\n",
      "Note: you may need to restart the kernel to use updated packages.\n"
     ]
    }
   ],
   "source": [
    "pip install flask"
   ]
  },
  {
   "cell_type": "code",
   "execution_count": 16,
   "metadata": {},
   "outputs": [
    {
     "name": "stdout",
     "output_type": "stream",
     "text": [
      "Collecting pypdf\n",
      "  Obtaining dependency information for pypdf from https://files.pythonhosted.org/packages/0b/27/d83f8f2a03ca5408dc2cc84b49c0bf3fbf059398a6a2ea7c10acfe28859f/pypdf-5.4.0-py3-none-any.whl.metadata\n",
      "  Downloading pypdf-5.4.0-py3-none-any.whl.metadata (7.3 kB)\n",
      "Downloading pypdf-5.4.0-py3-none-any.whl (302 kB)\n",
      "   ---------------------------------------- 0.0/302.3 kB ? eta -:--:--\n",
      "   ---------------------------------------- 0.0/302.3 kB ? eta -:--:--\n",
      "   --- ----------------------------------- 30.7/302.3 kB 435.7 kB/s eta 0:00:01\n",
      "   ---------------- ----------------------- 122.9/302.3 kB 1.2 MB/s eta 0:00:01\n",
      "   ---------------------------------------- 302.3/302.3 kB 2.1 MB/s eta 0:00:00\n",
      "Installing collected packages: pypdf\n",
      "Successfully installed pypdf-5.4.0\n",
      "Note: you may need to restart the kernel to use updated packages.\n"
     ]
    }
   ],
   "source": [
    "pip install pypdf"
   ]
  },
  {
   "cell_type": "code",
   "execution_count": 17,
   "metadata": {},
   "outputs": [
    {
     "name": "stdout",
     "output_type": "stream",
     "text": [
      "Requirement already satisfied: python-dotenv in c:\\users\\kusha\\anaconda3\\lib\\site-packages (0.21.0)\n",
      "Note: you may need to restart the kernel to use updated packages.\n"
     ]
    }
   ],
   "source": [
    "pip install python-dotenv"
   ]
  },
  {
   "cell_type": "code",
   "execution_count": 18,
   "metadata": {},
   "outputs": [
    {
     "name": "stdout",
     "output_type": "stream",
     "text": [
      "Collecting pinecone[grpc]\n",
      "  Obtaining dependency information for pinecone[grpc] from https://files.pythonhosted.org/packages/5b/c7/2bc1210aa51528b9ba75aede1f169998f50942cc47cdd82dd2dbcba4faa5/pinecone-6.0.2-py3-none-any.whl.metadata\n",
      "  Downloading pinecone-6.0.2-py3-none-any.whl.metadata (9.0 kB)\n",
      "Requirement already satisfied: certifi>=2019.11.17 in c:\\users\\kusha\\anaconda3\\lib\\site-packages (from pinecone[grpc]) (2023.7.22)\n",
      "Collecting googleapis-common-protos>=1.66.0 (from pinecone[grpc])\n",
      "  Obtaining dependency information for googleapis-common-protos>=1.66.0 from https://files.pythonhosted.org/packages/f9/53/d35476d547a286506f0a6a634ccf1e5d288fffd53d48f0bd5fef61d68684/googleapis_common_protos-1.69.2-py3-none-any.whl.metadata\n",
      "  Downloading googleapis_common_protos-1.69.2-py3-none-any.whl.metadata (9.3 kB)\n",
      "Requirement already satisfied: grpcio>=1.59.0 in c:\\users\\kusha\\anaconda3\\lib\\site-packages (from pinecone[grpc]) (1.59.2)\n",
      "Requirement already satisfied: lz4>=3.1.3 in c:\\users\\kusha\\anaconda3\\lib\\site-packages (from pinecone[grpc]) (4.3.2)\n",
      "Collecting pinecone-plugin-interface<0.0.8,>=0.0.7 (from pinecone[grpc])\n",
      "  Obtaining dependency information for pinecone-plugin-interface<0.0.8,>=0.0.7 from https://files.pythonhosted.org/packages/3b/1d/a21fdfcd6d022cb64cef5c2a29ee6691c6c103c4566b41646b080b7536a5/pinecone_plugin_interface-0.0.7-py3-none-any.whl.metadata\n",
      "  Using cached pinecone_plugin_interface-0.0.7-py3-none-any.whl.metadata (1.2 kB)\n",
      "Collecting protobuf<6.0,>=5.29 (from pinecone[grpc])\n",
      "  Obtaining dependency information for protobuf<6.0,>=5.29 from https://files.pythonhosted.org/packages/61/fa/aae8e10512b83de633f2646506a6d835b151edf4b30d18d73afd01447253/protobuf-5.29.3-cp310-abi3-win_amd64.whl.metadata\n",
      "  Downloading protobuf-5.29.3-cp310-abi3-win_amd64.whl.metadata (592 bytes)\n",
      "Collecting protoc-gen-openapiv2<0.0.2,>=0.0.1 (from pinecone[grpc])\n",
      "  Obtaining dependency information for protoc-gen-openapiv2<0.0.2,>=0.0.1 from https://files.pythonhosted.org/packages/2d/ac/bd8961859d8f3f81530465d2ce9b165627e961c00348939009bac2700cc6/protoc_gen_openapiv2-0.0.1-py3-none-any.whl.metadata\n",
      "  Downloading protoc_gen_openapiv2-0.0.1-py3-none-any.whl.metadata (1.5 kB)\n",
      "Requirement already satisfied: python-dateutil>=2.5.3 in c:\\users\\kusha\\anaconda3\\lib\\site-packages (from pinecone[grpc]) (2.8.2)\n",
      "Requirement already satisfied: typing-extensions>=3.7.4 in c:\\users\\kusha\\anaconda3\\lib\\site-packages (from pinecone[grpc]) (4.12.2)\n",
      "Requirement already satisfied: urllib3>=1.26.0 in c:\\users\\kusha\\anaconda3\\lib\\site-packages (from pinecone[grpc]) (1.26.16)\n",
      "Requirement already satisfied: six>=1.5 in c:\\users\\kusha\\anaconda3\\lib\\site-packages (from python-dateutil>=2.5.3->pinecone[grpc]) (1.16.0)\n",
      "Downloading googleapis_common_protos-1.69.2-py3-none-any.whl (293 kB)\n",
      "   ---------------------------------------- 0.0/293.2 kB ? eta -:--:--\n",
      "   ---- ----------------------------------- 30.7/293.2 kB 1.4 MB/s eta 0:00:01\n",
      "   ---------------------------------------  286.7/293.2 kB 3.5 MB/s eta 0:00:01\n",
      "   ---------------------------------------- 293.2/293.2 kB 3.6 MB/s eta 0:00:00\n",
      "Downloading pinecone_plugin_interface-0.0.7-py3-none-any.whl (6.2 kB)\n",
      "Downloading protobuf-5.29.3-cp310-abi3-win_amd64.whl (434 kB)\n",
      "   ---------------------------------------- 0.0/434.5 kB ? eta -:--:--\n",
      "   --------------------------------------- 434.5/434.5 kB 13.7 MB/s eta 0:00:00\n",
      "Downloading protoc_gen_openapiv2-0.0.1-py3-none-any.whl (7.9 kB)\n",
      "Downloading pinecone-6.0.2-py3-none-any.whl (421 kB)\n",
      "   ---------------------------------------- 0.0/421.9 kB ? eta -:--:--\n",
      "   --------------------------------------- 421.9/421.9 kB 27.4 MB/s eta 0:00:00\n",
      "Installing collected packages: protobuf, pinecone-plugin-interface, pinecone, googleapis-common-protos, protoc-gen-openapiv2\n",
      "  Attempting uninstall: protobuf\n",
      "    Found existing installation: protobuf 4.25.0\n",
      "    Uninstalling protobuf-4.25.0:\n",
      "      Successfully uninstalled protobuf-4.25.0\n",
      "Successfully installed googleapis-common-protos-1.69.2 pinecone-6.0.2 pinecone-plugin-interface-0.0.7 protobuf-5.29.3 protoc-gen-openapiv2-0.0.1\n",
      "Note: you may need to restart the kernel to use updated packages.\n"
     ]
    },
    {
     "name": "stderr",
     "output_type": "stream",
     "text": [
      "ERROR: pip's dependency resolver does not currently take into account all the packages that are installed. This behaviour is the source of the following dependency conflicts.\n",
      "tensorflow-intel 2.14.0 requires protobuf!=4.21.0,!=4.21.1,!=4.21.2,!=4.21.3,!=4.21.4,!=4.21.5,<5.0.0dev,>=3.20.3, but you have protobuf 5.29.3 which is incompatible.\n"
     ]
    }
   ],
   "source": [
    "pip install pinecone[grpc]"
   ]
  },
  {
   "cell_type": "code",
   "execution_count": 19,
   "metadata": {},
   "outputs": [
    {
     "name": "stdout",
     "output_type": "stream",
     "text": [
      "Collecting langchain-pinecone\n",
      "  Obtaining dependency information for langchain-pinecone from https://files.pythonhosted.org/packages/96/9c/86eb3f30f25d26a442188c6766695bbd88260a5a86d9e735d0f0d5ad9a30/langchain_pinecone-0.2.3-py3-none-any.whl.metadata\n",
      "  Downloading langchain_pinecone-0.2.3-py3-none-any.whl.metadata (1.3 kB)\n",
      "Requirement already satisfied: langchain-core<1.0.0,>=0.3.34 in c:\\users\\kusha\\anaconda3\\lib\\site-packages (from langchain-pinecone) (0.3.45)\n",
      "Collecting pinecone<6.0.0,>=5.4.0 (from langchain-pinecone)\n",
      "  Obtaining dependency information for pinecone<6.0.0,>=5.4.0 from https://files.pythonhosted.org/packages/2f/a4/f7214bf02bb2edb29778e35fa6e73e2d188c403e6d9c2b6945f660a776b3/pinecone-5.4.2-py3-none-any.whl.metadata\n",
      "  Downloading pinecone-5.4.2-py3-none-any.whl.metadata (19 kB)\n",
      "Collecting aiohttp<3.11,>=3.10 (from langchain-pinecone)\n",
      "  Obtaining dependency information for aiohttp<3.11,>=3.10 from https://files.pythonhosted.org/packages/6f/e9/8eb3dc095ce48499d867ad461d02f1491686b79ad92e4fad4df582f6be7b/aiohttp-3.10.11-cp311-cp311-win_amd64.whl.metadata\n",
      "  Downloading aiohttp-3.10.11-cp311-cp311-win_amd64.whl.metadata (8.0 kB)\n",
      "Collecting numpy<2.0.0,>=1.26.4 (from langchain-pinecone)\n",
      "  Obtaining dependency information for numpy<2.0.0,>=1.26.4 from https://files.pythonhosted.org/packages/3f/6b/5610004206cf7f8e7ad91c5a85a8c71b2f2f8051a0c0c4d5916b76d6cbb2/numpy-1.26.4-cp311-cp311-win_amd64.whl.metadata\n",
      "  Downloading numpy-1.26.4-cp311-cp311-win_amd64.whl.metadata (61 kB)\n",
      "     ---------------------------------------- 0.0/61.0 kB ? eta -:--:--\n",
      "     ------------------------- ------------ 41.0/61.0 kB 991.0 kB/s eta 0:00:01\n",
      "     ---------------------------------------- 61.0/61.0 kB 1.6 MB/s eta 0:00:00\n",
      "Collecting langchain-tests<1.0.0,>=0.3.7 (from langchain-pinecone)\n",
      "  Obtaining dependency information for langchain-tests<1.0.0,>=0.3.7 from https://files.pythonhosted.org/packages/de/71/0563abce1e5dfde59be9d86371d2b467e6cd8030dcc908faec651ef9bf53/langchain_tests-0.3.14-py3-none-any.whl.metadata\n",
      "  Downloading langchain_tests-0.3.14-py3-none-any.whl.metadata (3.1 kB)\n",
      "Collecting aiohappyeyeballs>=2.3.0 (from aiohttp<3.11,>=3.10->langchain-pinecone)\n",
      "  Obtaining dependency information for aiohappyeyeballs>=2.3.0 from https://files.pythonhosted.org/packages/0f/15/5bf3b99495fb160b63f95972b81750f18f7f4e02ad051373b669d17d44f2/aiohappyeyeballs-2.6.1-py3-none-any.whl.metadata\n",
      "  Downloading aiohappyeyeballs-2.6.1-py3-none-any.whl.metadata (5.9 kB)\n",
      "Requirement already satisfied: aiosignal>=1.1.2 in c:\\users\\kusha\\anaconda3\\lib\\site-packages (from aiohttp<3.11,>=3.10->langchain-pinecone) (1.2.0)\n",
      "Requirement already satisfied: attrs>=17.3.0 in c:\\users\\kusha\\anaconda3\\lib\\site-packages (from aiohttp<3.11,>=3.10->langchain-pinecone) (22.1.0)\n",
      "Requirement already satisfied: frozenlist>=1.1.1 in c:\\users\\kusha\\anaconda3\\lib\\site-packages (from aiohttp<3.11,>=3.10->langchain-pinecone) (1.3.3)\n",
      "Requirement already satisfied: multidict<7.0,>=4.5 in c:\\users\\kusha\\anaconda3\\lib\\site-packages (from aiohttp<3.11,>=3.10->langchain-pinecone) (6.0.2)\n",
      "Collecting yarl<2.0,>=1.12.0 (from aiohttp<3.11,>=3.10->langchain-pinecone)\n",
      "  Obtaining dependency information for yarl<2.0,>=1.12.0 from https://files.pythonhosted.org/packages/ae/7b/8600250b3d89b625f1121d897062f629883c2f45339623b69b1747ec65fa/yarl-1.18.3-cp311-cp311-win_amd64.whl.metadata\n",
      "  Downloading yarl-1.18.3-cp311-cp311-win_amd64.whl.metadata (71 kB)\n",
      "     ---------------------------------------- 0.0/71.4 kB ? eta -:--:--\n",
      "     ---------------------------------- ----- 61.4/71.4 kB 3.4 MB/s eta 0:00:01\n",
      "     ---------------------------------- ----- 61.4/71.4 kB 3.4 MB/s eta 0:00:01\n",
      "     -------------------------------------- 71.4/71.4 kB 651.1 kB/s eta 0:00:00\n",
      "Requirement already satisfied: langsmith<0.4,>=0.1.125 in c:\\users\\kusha\\anaconda3\\lib\\site-packages (from langchain-core<1.0.0,>=0.3.34->langchain-pinecone) (0.3.15)\n",
      "Requirement already satisfied: tenacity!=8.4.0,<10.0.0,>=8.1.0 in c:\\users\\kusha\\anaconda3\\lib\\site-packages (from langchain-core<1.0.0,>=0.3.34->langchain-pinecone) (8.2.2)\n",
      "Requirement already satisfied: jsonpatch<2.0,>=1.33 in c:\\users\\kusha\\anaconda3\\lib\\site-packages (from langchain-core<1.0.0,>=0.3.34->langchain-pinecone) (1.33)\n",
      "Requirement already satisfied: PyYAML>=5.3 in c:\\users\\kusha\\anaconda3\\lib\\site-packages (from langchain-core<1.0.0,>=0.3.34->langchain-pinecone) (6.0)\n",
      "Requirement already satisfied: packaging<25,>=23.2 in c:\\users\\kusha\\anaconda3\\lib\\site-packages (from langchain-core<1.0.0,>=0.3.34->langchain-pinecone) (24.2)\n",
      "Requirement already satisfied: typing-extensions>=4.7 in c:\\users\\kusha\\anaconda3\\lib\\site-packages (from langchain-core<1.0.0,>=0.3.34->langchain-pinecone) (4.12.2)\n",
      "Requirement already satisfied: pydantic<3.0.0,>=2.5.2 in c:\\users\\kusha\\anaconda3\\lib\\site-packages (from langchain-core<1.0.0,>=0.3.34->langchain-pinecone) (2.10.6)\n",
      "Requirement already satisfied: pytest<9,>=7 in c:\\users\\kusha\\anaconda3\\lib\\site-packages (from langchain-tests<1.0.0,>=0.3.7->langchain-pinecone) (7.4.0)\n",
      "Collecting pytest-asyncio<1,>=0.20 (from langchain-tests<1.0.0,>=0.3.7->langchain-pinecone)\n",
      "  Obtaining dependency information for pytest-asyncio<1,>=0.20 from https://files.pythonhosted.org/packages/67/17/3493c5624e48fd97156ebaec380dcaafee9506d7e2c46218ceebbb57d7de/pytest_asyncio-0.25.3-py3-none-any.whl.metadata\n",
      "  Downloading pytest_asyncio-0.25.3-py3-none-any.whl.metadata (3.9 kB)\n",
      "Requirement already satisfied: httpx<1,>=0.25.0 in c:\\users\\kusha\\anaconda3\\lib\\site-packages (from langchain-tests<1.0.0,>=0.3.7->langchain-pinecone) (0.28.1)\n",
      "Collecting syrupy<5,>=4 (from langchain-tests<1.0.0,>=0.3.7->langchain-pinecone)\n",
      "  Obtaining dependency information for syrupy<5,>=4 from https://files.pythonhosted.org/packages/14/78/1e7aee4498f79624f85a6480eb8bc04bacb729c30336bc61b384c6ce4998/syrupy-4.9.0-py3-none-any.whl.metadata\n",
      "  Downloading syrupy-4.9.0-py3-none-any.whl.metadata (38 kB)\n",
      "Collecting pytest-socket<1,>=0.6.0 (from langchain-tests<1.0.0,>=0.3.7->langchain-pinecone)\n",
      "  Obtaining dependency information for pytest-socket<1,>=0.6.0 from https://files.pythonhosted.org/packages/19/58/5d14cb5cb59409e491ebe816c47bf81423cd03098ea92281336320ae5681/pytest_socket-0.7.0-py3-none-any.whl.metadata\n",
      "  Downloading pytest_socket-0.7.0-py3-none-any.whl.metadata (6.7 kB)\n",
      "Requirement already satisfied: certifi>=2019.11.17 in c:\\users\\kusha\\anaconda3\\lib\\site-packages (from pinecone<6.0.0,>=5.4.0->langchain-pinecone) (2023.7.22)\n",
      "Collecting pinecone-plugin-inference<4.0.0,>=2.0.0 (from pinecone<6.0.0,>=5.4.0->langchain-pinecone)\n",
      "  Obtaining dependency information for pinecone-plugin-inference<4.0.0,>=2.0.0 from https://files.pythonhosted.org/packages/89/45/4ae4e38439919584c2d34b6bef5d0ef8d068030871dd4da911d174840ee6/pinecone_plugin_inference-3.1.0-py3-none-any.whl.metadata\n",
      "  Downloading pinecone_plugin_inference-3.1.0-py3-none-any.whl.metadata (2.2 kB)\n",
      "Requirement already satisfied: pinecone-plugin-interface<0.0.8,>=0.0.7 in c:\\users\\kusha\\anaconda3\\lib\\site-packages (from pinecone<6.0.0,>=5.4.0->langchain-pinecone) (0.0.7)\n",
      "Requirement already satisfied: python-dateutil>=2.5.3 in c:\\users\\kusha\\anaconda3\\lib\\site-packages (from pinecone<6.0.0,>=5.4.0->langchain-pinecone) (2.8.2)\n",
      "Requirement already satisfied: tqdm>=4.64.1 in c:\\users\\kusha\\anaconda3\\lib\\site-packages (from pinecone<6.0.0,>=5.4.0->langchain-pinecone) (4.65.0)\n",
      "Requirement already satisfied: urllib3>=1.26.0 in c:\\users\\kusha\\anaconda3\\lib\\site-packages (from pinecone<6.0.0,>=5.4.0->langchain-pinecone) (1.26.16)\n",
      "Requirement already satisfied: anyio in c:\\users\\kusha\\anaconda3\\lib\\site-packages (from httpx<1,>=0.25.0->langchain-tests<1.0.0,>=0.3.7->langchain-pinecone) (3.5.0)\n",
      "Requirement already satisfied: httpcore==1.* in c:\\users\\kusha\\anaconda3\\lib\\site-packages (from httpx<1,>=0.25.0->langchain-tests<1.0.0,>=0.3.7->langchain-pinecone) (1.0.7)\n",
      "Requirement already satisfied: idna in c:\\users\\kusha\\anaconda3\\lib\\site-packages (from httpx<1,>=0.25.0->langchain-tests<1.0.0,>=0.3.7->langchain-pinecone) (3.4)\n",
      "Requirement already satisfied: h11<0.15,>=0.13 in c:\\users\\kusha\\anaconda3\\lib\\site-packages (from httpcore==1.*->httpx<1,>=0.25.0->langchain-tests<1.0.0,>=0.3.7->langchain-pinecone) (0.14.0)\n",
      "Requirement already satisfied: jsonpointer>=1.9 in c:\\users\\kusha\\anaconda3\\lib\\site-packages (from jsonpatch<2.0,>=1.33->langchain-core<1.0.0,>=0.3.34->langchain-pinecone) (2.1)\n",
      "Requirement already satisfied: orjson<4.0.0,>=3.9.14 in c:\\users\\kusha\\anaconda3\\lib\\site-packages (from langsmith<0.4,>=0.1.125->langchain-core<1.0.0,>=0.3.34->langchain-pinecone) (3.10.15)\n",
      "Requirement already satisfied: requests<3,>=2 in c:\\users\\kusha\\anaconda3\\lib\\site-packages (from langsmith<0.4,>=0.1.125->langchain-core<1.0.0,>=0.3.34->langchain-pinecone) (2.31.0)\n",
      "Requirement already satisfied: requests-toolbelt<2.0.0,>=1.0.0 in c:\\users\\kusha\\anaconda3\\lib\\site-packages (from langsmith<0.4,>=0.1.125->langchain-core<1.0.0,>=0.3.34->langchain-pinecone) (1.0.0)\n",
      "Requirement already satisfied: zstandard<0.24.0,>=0.23.0 in c:\\users\\kusha\\anaconda3\\lib\\site-packages (from langsmith<0.4,>=0.1.125->langchain-core<1.0.0,>=0.3.34->langchain-pinecone) (0.23.0)\n",
      "Requirement already satisfied: annotated-types>=0.6.0 in c:\\users\\kusha\\anaconda3\\lib\\site-packages (from pydantic<3.0.0,>=2.5.2->langchain-core<1.0.0,>=0.3.34->langchain-pinecone) (0.7.0)\n",
      "Requirement already satisfied: pydantic-core==2.27.2 in c:\\users\\kusha\\anaconda3\\lib\\site-packages (from pydantic<3.0.0,>=2.5.2->langchain-core<1.0.0,>=0.3.34->langchain-pinecone) (2.27.2)\n",
      "Requirement already satisfied: iniconfig in c:\\users\\kusha\\anaconda3\\lib\\site-packages (from pytest<9,>=7->langchain-tests<1.0.0,>=0.3.7->langchain-pinecone) (1.1.1)\n",
      "Requirement already satisfied: pluggy<2.0,>=0.12 in c:\\users\\kusha\\anaconda3\\lib\\site-packages (from pytest<9,>=7->langchain-tests<1.0.0,>=0.3.7->langchain-pinecone) (1.0.0)\n",
      "Requirement already satisfied: colorama in c:\\users\\kusha\\anaconda3\\lib\\site-packages (from pytest<9,>=7->langchain-tests<1.0.0,>=0.3.7->langchain-pinecone) (0.4.6)\n",
      "Collecting pytest<9,>=7 (from langchain-tests<1.0.0,>=0.3.7->langchain-pinecone)\n",
      "  Obtaining dependency information for pytest<9,>=7 from https://files.pythonhosted.org/packages/30/3d/64ad57c803f1fa1e963a7946b6e0fea4a70df53c1a7fed304586539c2bac/pytest-8.3.5-py3-none-any.whl.metadata\n",
      "  Downloading pytest-8.3.5-py3-none-any.whl.metadata (7.6 kB)\n",
      "Collecting pluggy<2,>=1.5 (from pytest<9,>=7->langchain-tests<1.0.0,>=0.3.7->langchain-pinecone)\n",
      "  Obtaining dependency information for pluggy<2,>=1.5 from https://files.pythonhosted.org/packages/88/5f/e351af9a41f866ac3f1fac4ca0613908d9a41741cfcf2228f4ad853b697d/pluggy-1.5.0-py3-none-any.whl.metadata\n",
      "  Downloading pluggy-1.5.0-py3-none-any.whl.metadata (4.8 kB)\n",
      "Requirement already satisfied: six>=1.5 in c:\\users\\kusha\\anaconda3\\lib\\site-packages (from python-dateutil>=2.5.3->pinecone<6.0.0,>=5.4.0->langchain-pinecone) (1.16.0)\n",
      "Collecting propcache>=0.2.0 (from yarl<2.0,>=1.12.0->aiohttp<3.11,>=3.10->langchain-pinecone)\n",
      "  Obtaining dependency information for propcache>=0.2.0 from https://files.pythonhosted.org/packages/d8/35/57abeb6146fe3c19081eeaf3d9d4cfea256f87f1e5101acf80d3332c1820/propcache-0.3.0-cp311-cp311-win_amd64.whl.metadata\n",
      "  Downloading propcache-0.3.0-cp311-cp311-win_amd64.whl.metadata (10 kB)\n",
      "Requirement already satisfied: charset-normalizer<4,>=2 in c:\\users\\kusha\\anaconda3\\lib\\site-packages (from requests<3,>=2->langsmith<0.4,>=0.1.125->langchain-core<1.0.0,>=0.3.34->langchain-pinecone) (2.0.4)\n",
      "Requirement already satisfied: sniffio>=1.1 in c:\\users\\kusha\\anaconda3\\lib\\site-packages (from anyio->httpx<1,>=0.25.0->langchain-tests<1.0.0,>=0.3.7->langchain-pinecone) (1.2.0)\n",
      "Downloading langchain_pinecone-0.2.3-py3-none-any.whl (11 kB)\n",
      "Downloading aiohttp-3.10.11-cp311-cp311-win_amd64.whl (382 kB)\n",
      "   ---------------------------------------- 0.0/382.6 kB ? eta -:--:--\n",
      "   --------------------------------------- 382.6/382.6 kB 12.0 MB/s eta 0:00:00\n",
      "Downloading langchain_tests-0.3.14-py3-none-any.whl (37 kB)\n",
      "Downloading numpy-1.26.4-cp311-cp311-win_amd64.whl (15.8 MB)\n",
      "   ---------------------------------------- 0.0/15.8 MB ? eta -:--:--\n",
      "   -- ------------------------------------- 1.0/15.8 MB 32.7 MB/s eta 0:00:01\n",
      "   ---- ----------------------------------- 1.9/15.8 MB 23.9 MB/s eta 0:00:01\n",
      "   ------- -------------------------------- 2.9/15.8 MB 23.3 MB/s eta 0:00:01\n",
      "   ---------- ----------------------------- 4.2/15.8 MB 24.6 MB/s eta 0:00:01\n",
      "   --------------- ------------------------ 6.0/15.8 MB 27.4 MB/s eta 0:00:01\n",
      "   ------------------ --------------------- 7.4/15.8 MB 27.9 MB/s eta 0:00:01\n",
      "   ----------------------- ---------------- 9.2/15.8 MB 29.6 MB/s eta 0:00:01\n",
      "   ------------------------- -------------- 10.2/15.8 MB 28.4 MB/s eta 0:00:01\n",
      "   ---------------------------- ----------- 11.4/15.8 MB 28.5 MB/s eta 0:00:01\n",
      "   -------------------------------- ------- 12.9/15.8 MB 31.2 MB/s eta 0:00:01\n",
      "   ------------------------------------ --- 14.4/15.8 MB 31.2 MB/s eta 0:00:01\n",
      "   ---------------------------------------  15.8/15.8 MB 31.2 MB/s eta 0:00:01\n",
      "   ---------------------------------------- 15.8/15.8 MB 27.3 MB/s eta 0:00:00\n",
      "Downloading pinecone-5.4.2-py3-none-any.whl (427 kB)\n",
      "   ---------------------------------------- 0.0/427.3 kB ? eta -:--:--\n",
      "   --------------------------------------- 427.3/427.3 kB 26.1 MB/s eta 0:00:00\n",
      "Downloading aiohappyeyeballs-2.6.1-py3-none-any.whl (15 kB)\n",
      "Downloading pinecone_plugin_inference-3.1.0-py3-none-any.whl (87 kB)\n",
      "   ---------------------------------------- 0.0/87.5 kB ? eta -:--:--\n",
      "   ---------------------------------------- 87.5/87.5 kB ? eta 0:00:00\n",
      "Downloading pytest_asyncio-0.25.3-py3-none-any.whl (19 kB)\n",
      "Downloading pytest-8.3.5-py3-none-any.whl (343 kB)\n",
      "   ---------------------------------------- 0.0/343.6 kB ? eta -:--:--\n",
      "   --------------------------------------- 343.6/343.6 kB 20.8 MB/s eta 0:00:00\n",
      "Downloading pytest_socket-0.7.0-py3-none-any.whl (6.8 kB)\n",
      "Downloading syrupy-4.9.0-py3-none-any.whl (52 kB)\n",
      "   ---------------------------------------- 0.0/52.0 kB ? eta -:--:--\n",
      "   ---------------------------------------- 52.0/52.0 kB 2.6 MB/s eta 0:00:00\n",
      "Downloading yarl-1.18.3-cp311-cp311-win_amd64.whl (91 kB)\n",
      "   ---------------------------------------- 0.0/91.0 kB ? eta -:--:--\n",
      "   ---------------------------------------- 91.0/91.0 kB ? eta 0:00:00\n",
      "Downloading pluggy-1.5.0-py3-none-any.whl (20 kB)\n",
      "Downloading propcache-0.3.0-cp311-cp311-win_amd64.whl (44 kB)\n",
      "   ---------------------------------------- 0.0/44.7 kB ? eta -:--:--\n",
      "   ---------------------------------------- 44.7/44.7 kB 2.3 MB/s eta 0:00:00\n",
      "Installing collected packages: propcache, pluggy, pinecone-plugin-inference, numpy, aiohappyeyeballs, yarl, pytest, pinecone, syrupy, pytest-socket, pytest-asyncio, aiohttp, langchain-tests, langchain-pinecone\n",
      "  Attempting uninstall: pluggy\n",
      "    Found existing installation: pluggy 1.0.0\n",
      "    Uninstalling pluggy-1.0.0:\n",
      "      Successfully uninstalled pluggy-1.0.0\n",
      "  Attempting uninstall: numpy\n",
      "    Found existing installation: numpy 1.24.3\n",
      "    Uninstalling numpy-1.24.3:\n",
      "      Successfully uninstalled numpy-1.24.3\n",
      "  Attempting uninstall: yarl\n",
      "    Found existing installation: yarl 1.8.1\n",
      "    Uninstalling yarl-1.8.1:\n",
      "      Successfully uninstalled yarl-1.8.1\n",
      "  Attempting uninstall: pytest\n",
      "    Found existing installation: pytest 7.4.0\n",
      "    Uninstalling pytest-7.4.0:\n",
      "      Successfully uninstalled pytest-7.4.0\n",
      "  Attempting uninstall: pinecone\n",
      "    Found existing installation: pinecone 6.0.2\n",
      "    Uninstalling pinecone-6.0.2:\n",
      "      Successfully uninstalled pinecone-6.0.2\n",
      "  Attempting uninstall: aiohttp\n",
      "    Found existing installation: aiohttp 3.8.5\n",
      "    Uninstalling aiohttp-3.8.5:\n",
      "      Successfully uninstalled aiohttp-3.8.5\n",
      "Successfully installed aiohappyeyeballs-2.6.1 aiohttp-3.10.11 langchain-pinecone-0.2.3 langchain-tests-0.3.14 numpy-1.26.4 pinecone-5.4.2 pinecone-plugin-inference-3.1.0 pluggy-1.5.0 propcache-0.3.0 pytest-8.3.5 pytest-asyncio-0.25.3 pytest-socket-0.7.0 syrupy-4.9.0 yarl-1.18.3\n",
      "Note: you may need to restart the kernel to use updated packages.\n"
     ]
    },
    {
     "name": "stderr",
     "output_type": "stream",
     "text": [
      "ERROR: pip's dependency resolver does not currently take into account all the packages that are installed. This behaviour is the source of the following dependency conflicts.\n",
      "gensim 4.3.0 requires FuzzyTM>=0.4.0, which is not installed.\n",
      "tables 3.8.0 requires blosc2~=2.0.0, which is not installed.\n",
      "tables 3.8.0 requires cython>=0.29.21, which is not installed.\n",
      "numba 0.57.1 requires numpy<1.25,>=1.21, but you have numpy 1.26.4 which is incompatible.\n",
      "tensorflow-intel 2.14.0 requires protobuf!=4.21.0,!=4.21.1,!=4.21.2,!=4.21.3,!=4.21.4,!=4.21.5,<5.0.0dev,>=3.20.3, but you have protobuf 5.29.3 which is incompatible.\n"
     ]
    }
   ],
   "source": [
    "pip install langchain-pinecone"
   ]
  },
  {
   "cell_type": "code",
   "execution_count": 20,
   "metadata": {},
   "outputs": [
    {
     "name": "stdout",
     "output_type": "stream",
     "text": [
      "Collecting langchain_community\n",
      "  Obtaining dependency information for langchain_community from https://files.pythonhosted.org/packages/2b/a3/6718deba2c30db991c6b000d23fa062441daa576eb1e520cb2edc2729e2f/langchain_community-0.3.19-py3-none-any.whl.metadata\n",
      "  Downloading langchain_community-0.3.19-py3-none-any.whl.metadata (2.4 kB)\n",
      "Requirement already satisfied: langchain-core<1.0.0,>=0.3.41 in c:\\users\\kusha\\anaconda3\\lib\\site-packages (from langchain_community) (0.3.45)\n",
      "Requirement already satisfied: langchain<1.0.0,>=0.3.20 in c:\\users\\kusha\\anaconda3\\lib\\site-packages (from langchain_community) (0.3.20)\n",
      "Requirement already satisfied: SQLAlchemy<3,>=1.4 in c:\\users\\kusha\\anaconda3\\lib\\site-packages (from langchain_community) (1.4.39)\n",
      "Requirement already satisfied: requests<3,>=2 in c:\\users\\kusha\\anaconda3\\lib\\site-packages (from langchain_community) (2.31.0)\n",
      "Requirement already satisfied: PyYAML>=5.3 in c:\\users\\kusha\\anaconda3\\lib\\site-packages (from langchain_community) (6.0)\n",
      "Requirement already satisfied: aiohttp<4.0.0,>=3.8.3 in c:\\users\\kusha\\anaconda3\\lib\\site-packages (from langchain_community) (3.10.11)\n",
      "Requirement already satisfied: tenacity!=8.4.0,<10,>=8.1.0 in c:\\users\\kusha\\anaconda3\\lib\\site-packages (from langchain_community) (8.2.2)\n",
      "Collecting dataclasses-json<0.7,>=0.5.7 (from langchain_community)\n",
      "  Obtaining dependency information for dataclasses-json<0.7,>=0.5.7 from https://files.pythonhosted.org/packages/c3/be/d0d44e092656fe7a06b55e6103cbce807cdbdee17884a5367c68c9860853/dataclasses_json-0.6.7-py3-none-any.whl.metadata\n",
      "  Downloading dataclasses_json-0.6.7-py3-none-any.whl.metadata (25 kB)\n",
      "Collecting pydantic-settings<3.0.0,>=2.4.0 (from langchain_community)\n",
      "  Obtaining dependency information for pydantic-settings<3.0.0,>=2.4.0 from https://files.pythonhosted.org/packages/0b/53/a64f03044927dc47aafe029c42a5b7aabc38dfb813475e0e1bf71c4a59d0/pydantic_settings-2.8.1-py3-none-any.whl.metadata\n",
      "  Downloading pydantic_settings-2.8.1-py3-none-any.whl.metadata (3.5 kB)\n",
      "Requirement already satisfied: langsmith<0.4,>=0.1.125 in c:\\users\\kusha\\anaconda3\\lib\\site-packages (from langchain_community) (0.3.15)\n",
      "Collecting httpx-sse<1.0.0,>=0.4.0 (from langchain_community)\n",
      "  Obtaining dependency information for httpx-sse<1.0.0,>=0.4.0 from https://files.pythonhosted.org/packages/e1/9b/a181f281f65d776426002f330c31849b86b31fc9d848db62e16f03ff739f/httpx_sse-0.4.0-py3-none-any.whl.metadata\n",
      "  Downloading httpx_sse-0.4.0-py3-none-any.whl.metadata (9.0 kB)\n",
      "Requirement already satisfied: numpy<3,>=1.26.2 in c:\\users\\kusha\\anaconda3\\lib\\site-packages (from langchain_community) (1.26.4)\n",
      "Requirement already satisfied: aiohappyeyeballs>=2.3.0 in c:\\users\\kusha\\anaconda3\\lib\\site-packages (from aiohttp<4.0.0,>=3.8.3->langchain_community) (2.6.1)\n",
      "Requirement already satisfied: aiosignal>=1.1.2 in c:\\users\\kusha\\anaconda3\\lib\\site-packages (from aiohttp<4.0.0,>=3.8.3->langchain_community) (1.2.0)\n",
      "Requirement already satisfied: attrs>=17.3.0 in c:\\users\\kusha\\anaconda3\\lib\\site-packages (from aiohttp<4.0.0,>=3.8.3->langchain_community) (22.1.0)\n",
      "Requirement already satisfied: frozenlist>=1.1.1 in c:\\users\\kusha\\anaconda3\\lib\\site-packages (from aiohttp<4.0.0,>=3.8.3->langchain_community) (1.3.3)\n",
      "Requirement already satisfied: multidict<7.0,>=4.5 in c:\\users\\kusha\\anaconda3\\lib\\site-packages (from aiohttp<4.0.0,>=3.8.3->langchain_community) (6.0.2)\n",
      "Requirement already satisfied: yarl<2.0,>=1.12.0 in c:\\users\\kusha\\anaconda3\\lib\\site-packages (from aiohttp<4.0.0,>=3.8.3->langchain_community) (1.18.3)\n",
      "Collecting marshmallow<4.0.0,>=3.18.0 (from dataclasses-json<0.7,>=0.5.7->langchain_community)\n",
      "  Obtaining dependency information for marshmallow<4.0.0,>=3.18.0 from https://files.pythonhosted.org/packages/34/75/51952c7b2d3873b44a0028b1bd26a25078c18f92f256608e8d1dc61b39fd/marshmallow-3.26.1-py3-none-any.whl.metadata\n",
      "  Downloading marshmallow-3.26.1-py3-none-any.whl.metadata (7.3 kB)\n",
      "Collecting typing-inspect<1,>=0.4.0 (from dataclasses-json<0.7,>=0.5.7->langchain_community)\n",
      "  Obtaining dependency information for typing-inspect<1,>=0.4.0 from https://files.pythonhosted.org/packages/65/f3/107a22063bf27bdccf2024833d3445f4eea42b2e598abfbd46f6a63b6cb0/typing_inspect-0.9.0-py3-none-any.whl.metadata\n",
      "  Downloading typing_inspect-0.9.0-py3-none-any.whl.metadata (1.5 kB)\n",
      "Requirement already satisfied: langchain-text-splitters<1.0.0,>=0.3.6 in c:\\users\\kusha\\anaconda3\\lib\\site-packages (from langchain<1.0.0,>=0.3.20->langchain_community) (0.3.6)\n",
      "Requirement already satisfied: pydantic<3.0.0,>=2.7.4 in c:\\users\\kusha\\anaconda3\\lib\\site-packages (from langchain<1.0.0,>=0.3.20->langchain_community) (2.10.6)\n",
      "Requirement already satisfied: jsonpatch<2.0,>=1.33 in c:\\users\\kusha\\anaconda3\\lib\\site-packages (from langchain-core<1.0.0,>=0.3.41->langchain_community) (1.33)\n",
      "Requirement already satisfied: packaging<25,>=23.2 in c:\\users\\kusha\\anaconda3\\lib\\site-packages (from langchain-core<1.0.0,>=0.3.41->langchain_community) (24.2)\n",
      "Requirement already satisfied: typing-extensions>=4.7 in c:\\users\\kusha\\anaconda3\\lib\\site-packages (from langchain-core<1.0.0,>=0.3.41->langchain_community) (4.12.2)\n",
      "Requirement already satisfied: httpx<1,>=0.23.0 in c:\\users\\kusha\\anaconda3\\lib\\site-packages (from langsmith<0.4,>=0.1.125->langchain_community) (0.28.1)\n",
      "Requirement already satisfied: orjson<4.0.0,>=3.9.14 in c:\\users\\kusha\\anaconda3\\lib\\site-packages (from langsmith<0.4,>=0.1.125->langchain_community) (3.10.15)\n",
      "Requirement already satisfied: requests-toolbelt<2.0.0,>=1.0.0 in c:\\users\\kusha\\anaconda3\\lib\\site-packages (from langsmith<0.4,>=0.1.125->langchain_community) (1.0.0)\n",
      "Requirement already satisfied: zstandard<0.24.0,>=0.23.0 in c:\\users\\kusha\\anaconda3\\lib\\site-packages (from langsmith<0.4,>=0.1.125->langchain_community) (0.23.0)\n",
      "Requirement already satisfied: python-dotenv>=0.21.0 in c:\\users\\kusha\\anaconda3\\lib\\site-packages (from pydantic-settings<3.0.0,>=2.4.0->langchain_community) (0.21.0)\n",
      "Requirement already satisfied: charset-normalizer<4,>=2 in c:\\users\\kusha\\anaconda3\\lib\\site-packages (from requests<3,>=2->langchain_community) (2.0.4)\n",
      "Requirement already satisfied: idna<4,>=2.5 in c:\\users\\kusha\\anaconda3\\lib\\site-packages (from requests<3,>=2->langchain_community) (3.4)\n",
      "Requirement already satisfied: urllib3<3,>=1.21.1 in c:\\users\\kusha\\anaconda3\\lib\\site-packages (from requests<3,>=2->langchain_community) (1.26.16)\n",
      "Requirement already satisfied: certifi>=2017.4.17 in c:\\users\\kusha\\anaconda3\\lib\\site-packages (from requests<3,>=2->langchain_community) (2023.7.22)\n",
      "Requirement already satisfied: greenlet!=0.4.17 in c:\\users\\kusha\\anaconda3\\lib\\site-packages (from SQLAlchemy<3,>=1.4->langchain_community) (2.0.1)\n",
      "Requirement already satisfied: anyio in c:\\users\\kusha\\anaconda3\\lib\\site-packages (from httpx<1,>=0.23.0->langsmith<0.4,>=0.1.125->langchain_community) (3.5.0)\n",
      "Requirement already satisfied: httpcore==1.* in c:\\users\\kusha\\anaconda3\\lib\\site-packages (from httpx<1,>=0.23.0->langsmith<0.4,>=0.1.125->langchain_community) (1.0.7)\n",
      "Requirement already satisfied: h11<0.15,>=0.13 in c:\\users\\kusha\\anaconda3\\lib\\site-packages (from httpcore==1.*->httpx<1,>=0.23.0->langsmith<0.4,>=0.1.125->langchain_community) (0.14.0)\n",
      "Requirement already satisfied: jsonpointer>=1.9 in c:\\users\\kusha\\anaconda3\\lib\\site-packages (from jsonpatch<2.0,>=1.33->langchain-core<1.0.0,>=0.3.41->langchain_community) (2.1)\n",
      "Requirement already satisfied: annotated-types>=0.6.0 in c:\\users\\kusha\\anaconda3\\lib\\site-packages (from pydantic<3.0.0,>=2.7.4->langchain<1.0.0,>=0.3.20->langchain_community) (0.7.0)\n",
      "Requirement already satisfied: pydantic-core==2.27.2 in c:\\users\\kusha\\anaconda3\\lib\\site-packages (from pydantic<3.0.0,>=2.7.4->langchain<1.0.0,>=0.3.20->langchain_community) (2.27.2)\n",
      "Requirement already satisfied: mypy-extensions>=0.3.0 in c:\\users\\kusha\\anaconda3\\lib\\site-packages (from typing-inspect<1,>=0.4.0->dataclasses-json<0.7,>=0.5.7->langchain_community) (1.0.0)\n",
      "Requirement already satisfied: propcache>=0.2.0 in c:\\users\\kusha\\anaconda3\\lib\\site-packages (from yarl<2.0,>=1.12.0->aiohttp<4.0.0,>=3.8.3->langchain_community) (0.3.0)\n",
      "Requirement already satisfied: sniffio>=1.1 in c:\\users\\kusha\\anaconda3\\lib\\site-packages (from anyio->httpx<1,>=0.23.0->langsmith<0.4,>=0.1.125->langchain_community) (1.2.0)\n",
      "Downloading langchain_community-0.3.19-py3-none-any.whl (2.5 MB)\n",
      "   ---------------------------------------- 0.0/2.5 MB ? eta -:--:--\n",
      "   -- ------------------------------------- 0.2/2.5 MB 3.5 MB/s eta 0:00:01\n",
      "   ------------ --------------------------- 0.8/2.5 MB 8.1 MB/s eta 0:00:01\n",
      "   --------------------------- ------------ 1.7/2.5 MB 12.1 MB/s eta 0:00:01\n",
      "   ---------------------------------------  2.5/2.5 MB 14.6 MB/s eta 0:00:01\n",
      "   ---------------------------------------- 2.5/2.5 MB 12.4 MB/s eta 0:00:00\n",
      "Downloading dataclasses_json-0.6.7-py3-none-any.whl (28 kB)\n",
      "Downloading httpx_sse-0.4.0-py3-none-any.whl (7.8 kB)\n",
      "Downloading pydantic_settings-2.8.1-py3-none-any.whl (30 kB)\n",
      "Downloading marshmallow-3.26.1-py3-none-any.whl (50 kB)\n",
      "   ---------------------------------------- 0.0/50.9 kB ? eta -:--:--\n",
      "   ---------------------------------------- 50.9/50.9 kB ? eta 0:00:00\n",
      "Downloading typing_inspect-0.9.0-py3-none-any.whl (8.8 kB)\n",
      "Installing collected packages: typing-inspect, marshmallow, httpx-sse, dataclasses-json, pydantic-settings, langchain_community\n",
      "Successfully installed dataclasses-json-0.6.7 httpx-sse-0.4.0 langchain_community-0.3.19 marshmallow-3.26.1 pydantic-settings-2.8.1 typing-inspect-0.9.0\n",
      "Note: you may need to restart the kernel to use updated packages.\n"
     ]
    }
   ],
   "source": [
    "pip install langchain_community"
   ]
  },
  {
   "cell_type": "code",
   "execution_count": 22,
   "metadata": {},
   "outputs": [
    {
     "name": "stdout",
     "output_type": "stream",
     "text": [
      "Collecting langchain_experimental\n",
      "  Obtaining dependency information for langchain_experimental from https://files.pythonhosted.org/packages/b2/27/fe8caa4884611286b1f7d6c5cfd76e1fef188faaa946db4fde6daa1cd2cd/langchain_experimental-0.3.4-py3-none-any.whl.metadata\n",
      "  Downloading langchain_experimental-0.3.4-py3-none-any.whl.metadata (1.7 kB)\n",
      "Requirement already satisfied: langchain-community<0.4.0,>=0.3.0 in c:\\users\\kusha\\anaconda3\\lib\\site-packages (from langchain_experimental) (0.3.19)\n",
      "Requirement already satisfied: langchain-core<0.4.0,>=0.3.28 in c:\\users\\kusha\\anaconda3\\lib\\site-packages (from langchain_experimental) (0.3.45)\n",
      "Requirement already satisfied: langchain<1.0.0,>=0.3.20 in c:\\users\\kusha\\anaconda3\\lib\\site-packages (from langchain-community<0.4.0,>=0.3.0->langchain_experimental) (0.3.20)\n",
      "Requirement already satisfied: SQLAlchemy<3,>=1.4 in c:\\users\\kusha\\anaconda3\\lib\\site-packages (from langchain-community<0.4.0,>=0.3.0->langchain_experimental) (1.4.39)\n",
      "Requirement already satisfied: requests<3,>=2 in c:\\users\\kusha\\anaconda3\\lib\\site-packages (from langchain-community<0.4.0,>=0.3.0->langchain_experimental) (2.31.0)\n",
      "Requirement already satisfied: PyYAML>=5.3 in c:\\users\\kusha\\anaconda3\\lib\\site-packages (from langchain-community<0.4.0,>=0.3.0->langchain_experimental) (6.0)\n",
      "Requirement already satisfied: aiohttp<4.0.0,>=3.8.3 in c:\\users\\kusha\\anaconda3\\lib\\site-packages (from langchain-community<0.4.0,>=0.3.0->langchain_experimental) (3.10.11)\n",
      "Requirement already satisfied: tenacity!=8.4.0,<10,>=8.1.0 in c:\\users\\kusha\\anaconda3\\lib\\site-packages (from langchain-community<0.4.0,>=0.3.0->langchain_experimental) (8.2.2)\n",
      "Requirement already satisfied: dataclasses-json<0.7,>=0.5.7 in c:\\users\\kusha\\anaconda3\\lib\\site-packages (from langchain-community<0.4.0,>=0.3.0->langchain_experimental) (0.6.7)\n",
      "Requirement already satisfied: pydantic-settings<3.0.0,>=2.4.0 in c:\\users\\kusha\\anaconda3\\lib\\site-packages (from langchain-community<0.4.0,>=0.3.0->langchain_experimental) (2.8.1)\n",
      "Requirement already satisfied: langsmith<0.4,>=0.1.125 in c:\\users\\kusha\\anaconda3\\lib\\site-packages (from langchain-community<0.4.0,>=0.3.0->langchain_experimental) (0.3.15)\n",
      "Requirement already satisfied: httpx-sse<1.0.0,>=0.4.0 in c:\\users\\kusha\\anaconda3\\lib\\site-packages (from langchain-community<0.4.0,>=0.3.0->langchain_experimental) (0.4.0)\n",
      "Requirement already satisfied: numpy<3,>=1.26.2 in c:\\users\\kusha\\anaconda3\\lib\\site-packages (from langchain-community<0.4.0,>=0.3.0->langchain_experimental) (1.26.4)\n",
      "Requirement already satisfied: jsonpatch<2.0,>=1.33 in c:\\users\\kusha\\anaconda3\\lib\\site-packages (from langchain-core<0.4.0,>=0.3.28->langchain_experimental) (1.33)\n",
      "Requirement already satisfied: packaging<25,>=23.2 in c:\\users\\kusha\\anaconda3\\lib\\site-packages (from langchain-core<0.4.0,>=0.3.28->langchain_experimental) (24.2)\n",
      "Requirement already satisfied: typing-extensions>=4.7 in c:\\users\\kusha\\anaconda3\\lib\\site-packages (from langchain-core<0.4.0,>=0.3.28->langchain_experimental) (4.12.2)\n",
      "Requirement already satisfied: pydantic<3.0.0,>=2.5.2 in c:\\users\\kusha\\anaconda3\\lib\\site-packages (from langchain-core<0.4.0,>=0.3.28->langchain_experimental) (2.10.6)\n",
      "Requirement already satisfied: aiohappyeyeballs>=2.3.0 in c:\\users\\kusha\\anaconda3\\lib\\site-packages (from aiohttp<4.0.0,>=3.8.3->langchain-community<0.4.0,>=0.3.0->langchain_experimental) (2.6.1)\n",
      "Requirement already satisfied: aiosignal>=1.1.2 in c:\\users\\kusha\\anaconda3\\lib\\site-packages (from aiohttp<4.0.0,>=3.8.3->langchain-community<0.4.0,>=0.3.0->langchain_experimental) (1.2.0)\n",
      "Requirement already satisfied: attrs>=17.3.0 in c:\\users\\kusha\\anaconda3\\lib\\site-packages (from aiohttp<4.0.0,>=3.8.3->langchain-community<0.4.0,>=0.3.0->langchain_experimental) (22.1.0)\n",
      "Requirement already satisfied: frozenlist>=1.1.1 in c:\\users\\kusha\\anaconda3\\lib\\site-packages (from aiohttp<4.0.0,>=3.8.3->langchain-community<0.4.0,>=0.3.0->langchain_experimental) (1.3.3)\n",
      "Requirement already satisfied: multidict<7.0,>=4.5 in c:\\users\\kusha\\anaconda3\\lib\\site-packages (from aiohttp<4.0.0,>=3.8.3->langchain-community<0.4.0,>=0.3.0->langchain_experimental) (6.0.2)\n",
      "Requirement already satisfied: yarl<2.0,>=1.12.0 in c:\\users\\kusha\\anaconda3\\lib\\site-packages (from aiohttp<4.0.0,>=3.8.3->langchain-community<0.4.0,>=0.3.0->langchain_experimental) (1.18.3)\n",
      "Requirement already satisfied: marshmallow<4.0.0,>=3.18.0 in c:\\users\\kusha\\anaconda3\\lib\\site-packages (from dataclasses-json<0.7,>=0.5.7->langchain-community<0.4.0,>=0.3.0->langchain_experimental) (3.26.1)\n",
      "Requirement already satisfied: typing-inspect<1,>=0.4.0 in c:\\users\\kusha\\anaconda3\\lib\\site-packages (from dataclasses-json<0.7,>=0.5.7->langchain-community<0.4.0,>=0.3.0->langchain_experimental) (0.9.0)\n",
      "Requirement already satisfied: jsonpointer>=1.9 in c:\\users\\kusha\\anaconda3\\lib\\site-packages (from jsonpatch<2.0,>=1.33->langchain-core<0.4.0,>=0.3.28->langchain_experimental) (2.1)\n",
      "Requirement already satisfied: langchain-text-splitters<1.0.0,>=0.3.6 in c:\\users\\kusha\\anaconda3\\lib\\site-packages (from langchain<1.0.0,>=0.3.20->langchain-community<0.4.0,>=0.3.0->langchain_experimental) (0.3.6)\n",
      "Requirement already satisfied: httpx<1,>=0.23.0 in c:\\users\\kusha\\anaconda3\\lib\\site-packages (from langsmith<0.4,>=0.1.125->langchain-community<0.4.0,>=0.3.0->langchain_experimental) (0.28.1)\n",
      "Requirement already satisfied: orjson<4.0.0,>=3.9.14 in c:\\users\\kusha\\anaconda3\\lib\\site-packages (from langsmith<0.4,>=0.1.125->langchain-community<0.4.0,>=0.3.0->langchain_experimental) (3.10.15)\n",
      "Requirement already satisfied: requests-toolbelt<2.0.0,>=1.0.0 in c:\\users\\kusha\\anaconda3\\lib\\site-packages (from langsmith<0.4,>=0.1.125->langchain-community<0.4.0,>=0.3.0->langchain_experimental) (1.0.0)\n",
      "Requirement already satisfied: zstandard<0.24.0,>=0.23.0 in c:\\users\\kusha\\anaconda3\\lib\\site-packages (from langsmith<0.4,>=0.1.125->langchain-community<0.4.0,>=0.3.0->langchain_experimental) (0.23.0)\n",
      "Requirement already satisfied: annotated-types>=0.6.0 in c:\\users\\kusha\\anaconda3\\lib\\site-packages (from pydantic<3.0.0,>=2.5.2->langchain-core<0.4.0,>=0.3.28->langchain_experimental) (0.7.0)\n",
      "Requirement already satisfied: pydantic-core==2.27.2 in c:\\users\\kusha\\anaconda3\\lib\\site-packages (from pydantic<3.0.0,>=2.5.2->langchain-core<0.4.0,>=0.3.28->langchain_experimental) (2.27.2)\n",
      "Requirement already satisfied: python-dotenv>=0.21.0 in c:\\users\\kusha\\anaconda3\\lib\\site-packages (from pydantic-settings<3.0.0,>=2.4.0->langchain-community<0.4.0,>=0.3.0->langchain_experimental) (0.21.0)\n",
      "Requirement already satisfied: charset-normalizer<4,>=2 in c:\\users\\kusha\\anaconda3\\lib\\site-packages (from requests<3,>=2->langchain-community<0.4.0,>=0.3.0->langchain_experimental) (2.0.4)\n",
      "Requirement already satisfied: idna<4,>=2.5 in c:\\users\\kusha\\anaconda3\\lib\\site-packages (from requests<3,>=2->langchain-community<0.4.0,>=0.3.0->langchain_experimental) (3.4)\n",
      "Requirement already satisfied: urllib3<3,>=1.21.1 in c:\\users\\kusha\\anaconda3\\lib\\site-packages (from requests<3,>=2->langchain-community<0.4.0,>=0.3.0->langchain_experimental) (1.26.16)\n",
      "Requirement already satisfied: certifi>=2017.4.17 in c:\\users\\kusha\\anaconda3\\lib\\site-packages (from requests<3,>=2->langchain-community<0.4.0,>=0.3.0->langchain_experimental) (2023.7.22)\n",
      "Requirement already satisfied: greenlet!=0.4.17 in c:\\users\\kusha\\anaconda3\\lib\\site-packages (from SQLAlchemy<3,>=1.4->langchain-community<0.4.0,>=0.3.0->langchain_experimental) (2.0.1)\n",
      "Requirement already satisfied: anyio in c:\\users\\kusha\\anaconda3\\lib\\site-packages (from httpx<1,>=0.23.0->langsmith<0.4,>=0.1.125->langchain-community<0.4.0,>=0.3.0->langchain_experimental) (3.5.0)\n",
      "Requirement already satisfied: httpcore==1.* in c:\\users\\kusha\\anaconda3\\lib\\site-packages (from httpx<1,>=0.23.0->langsmith<0.4,>=0.1.125->langchain-community<0.4.0,>=0.3.0->langchain_experimental) (1.0.7)\n",
      "Requirement already satisfied: h11<0.15,>=0.13 in c:\\users\\kusha\\anaconda3\\lib\\site-packages (from httpcore==1.*->httpx<1,>=0.23.0->langsmith<0.4,>=0.1.125->langchain-community<0.4.0,>=0.3.0->langchain_experimental) (0.14.0)\n",
      "Requirement already satisfied: mypy-extensions>=0.3.0 in c:\\users\\kusha\\anaconda3\\lib\\site-packages (from typing-inspect<1,>=0.4.0->dataclasses-json<0.7,>=0.5.7->langchain-community<0.4.0,>=0.3.0->langchain_experimental) (1.0.0)\n",
      "Requirement already satisfied: propcache>=0.2.0 in c:\\users\\kusha\\anaconda3\\lib\\site-packages (from yarl<2.0,>=1.12.0->aiohttp<4.0.0,>=3.8.3->langchain-community<0.4.0,>=0.3.0->langchain_experimental) (0.3.0)\n",
      "Requirement already satisfied: sniffio>=1.1 in c:\\users\\kusha\\anaconda3\\lib\\site-packages (from anyio->httpx<1,>=0.23.0->langsmith<0.4,>=0.1.125->langchain-community<0.4.0,>=0.3.0->langchain_experimental) (1.2.0)\n",
      "Downloading langchain_experimental-0.3.4-py3-none-any.whl (209 kB)\n",
      "   ---------------------------------------- 0.0/209.2 kB ? eta -:--:--\n",
      "   - -------------------------------------- 10.2/209.2 kB ? eta -:--:--\n",
      "   ----- --------------------------------- 30.7/209.2 kB 660.6 kB/s eta 0:00:01\n",
      "   ----------------------------------- ---- 184.3/209.2 kB 1.9 MB/s eta 0:00:01\n",
      "   ---------------------------------------- 209.2/209.2 kB 2.1 MB/s eta 0:00:00\n",
      "Installing collected packages: langchain_experimental\n",
      "Successfully installed langchain_experimental-0.3.4\n",
      "Note: you may need to restart the kernel to use updated packages.\n"
     ]
    }
   ],
   "source": [
    "pip install langchain_experimental"
   ]
  },
  {
   "cell_type": "code",
   "execution_count": 23,
   "metadata": {},
   "outputs": [],
   "source": [
    "\n",
    "from langchain.document_loaders import PyPDFLoader, DirectoryLoader\n",
    "from langchain.text_splitter import RecursiveCharacterTextSplitter"
   ]
  },
  {
   "cell_type": "markdown",
   "metadata": {},
   "source": [
    "### Loading the pdf"
   ]
  },
  {
   "cell_type": "code",
   "execution_count": 102,
   "metadata": {},
   "outputs": [],
   "source": [
    "def load_pdf_file(data):\n",
    "    loader = DirectoryLoader(data,\n",
    "    glob=\"*.pdf\",\n",
    "    loader_cls=PyPDFLoader\n",
    "    )\n",
    "    documents=loader.load()\n",
    "    return documents"
   ]
  },
  {
   "cell_type": "code",
   "execution_count": 103,
   "metadata": {},
   "outputs": [],
   "source": [
    "extracted_data=load_pdf_file(data='Data/')"
   ]
  },
  {
   "cell_type": "code",
   "execution_count": 105,
   "metadata": {},
   "outputs": [],
   "source": [
    "# extracted_data"
   ]
  },
  {
   "cell_type": "markdown",
   "metadata": {},
   "source": [
    "### Chunking the pdf into smaller bits"
   ]
  },
  {
   "cell_type": "code",
   "execution_count": 35,
   "metadata": {},
   "outputs": [],
   "source": [
    "def text_split(extracted_data):\n",
    "    text_splitter= RecursiveCharacterTextSplitter(chunk_size=250,chunk_overlap=20)\n",
    "    text_chunks=text_splitter.split_documents(extracted_data)\n",
    "    return text_chunks"
   ]
  },
  {
   "cell_type": "code",
   "execution_count": 106,
   "metadata": {},
   "outputs": [
    {
     "name": "stdout",
     "output_type": "stream",
     "text": [
      "645\n"
     ]
    }
   ],
   "source": [
    "text_chunks=text_split(extracted_data)\n",
    "print(len(text_chunks))"
   ]
  },
  {
   "cell_type": "markdown",
   "metadata": {},
   "source": [
    "### Creating Embeddings"
   ]
  },
  {
   "cell_type": "code",
   "execution_count": 38,
   "metadata": {},
   "outputs": [],
   "source": [
    "from langchain.embeddings import HuggingFaceEmbeddings"
   ]
  },
  {
   "cell_type": "code",
   "execution_count": 39,
   "metadata": {},
   "outputs": [],
   "source": [
    "def download_embedding():\n",
    "    embeddings=HuggingFaceEmbeddings(model_name=\"sentence-transformers/all-MiniLM-L6-v2\")\n",
    "    return embeddings"
   ]
  },
  {
   "cell_type": "code",
   "execution_count": null,
   "metadata": {},
   "outputs": [],
   "source": [
    "embed=download_embedding()"
   ]
  },
  {
   "cell_type": "code",
   "execution_count": 111,
   "metadata": {},
   "outputs": [
    {
     "name": "stdout",
     "output_type": "stream",
     "text": [
      "[-0.03447725623846054, 0.031023234128952026, 0.00673498073592782, 0.026108982041478157, -0.03936200961470604, -0.16030246019363403, 0.06692402064800262, -0.006441496778279543, -0.04745052754878998, 0.014758873730897903, 0.07087533175945282, 0.05552760884165764, 0.019193284213542938, -0.026251396164298058, -0.01010950282216072, -0.02694050222635269, 0.022307446226477623, -0.022226607427001, -0.14969268441200256, -0.017493071034550667, 0.007676307577639818, 0.05435227230191231, 0.0032544692512601614, 0.031725965440273285, -0.0846213549375534, -0.029406040906906128, 0.05159568786621094, 0.048124056309461594, -0.0033148087095469236, -0.05827920511364937, 0.04196929559111595, 0.022210730239748955, 0.12818878889083862, -0.02233894169330597, -0.011656270362436771, 0.06292835623025894, -0.03287627175450325, -0.09122610837221146, -0.031175389885902405, 0.05269959196448326, 0.047034792602062225, -0.08420304954051971, -0.030056139454245567, -0.020744765177369118, 0.00951783824712038, -0.003721774322912097, 0.007343325298279524, 0.039324335753917694, 0.0932740569114685, -0.003788599744439125, -0.052742138504981995, -0.05805815011262894, -0.006864397320896387, 0.005283213686197996, 0.0828930139541626, 0.019362756982445717, 0.0062845200300216675, -0.01033082790672779, 0.009032407775521278, -0.03768376633524895, -0.04520612955093384, 0.024016376584768295, -0.006944230757653713, 0.013491638004779816, 0.10005497187376022, -0.07168391346931458, -0.0216950885951519, 0.03161841630935669, -0.05163460969924927, -0.08224768191576004, -0.06569334864616394, -0.00989539921283722, 0.005816360004246235, 0.07355456054210663, -0.034050289541482925, 0.02488614432513714, 0.01448807306587696, 0.026457415893673897, 0.009656756184995174, 0.030217304825782776, 0.052803993225097656, -0.07535988837480545, 0.009897168725728989, 0.02983686327934265, 0.017555583268404007, 0.023091981187462807, 0.0019338871352374554, 0.0014001827221363783, -0.04717594012618065, -0.011194346472620964, -0.11420141905546188, -0.019812028855085373, 0.04026619344949722, 0.002192934276536107, -0.07979219406843185, -0.025382300838828087, 0.09448295086622238, -0.028981110081076622, -0.1450025588274002, 0.230977401137352, 0.027731120586395264, 0.032111480832099915, 0.031065022572875023, 0.0428328700363636, 0.0642378032207489, 0.032163217663764954, -0.004876678343862295, 0.055699434131383896, -0.03753238543868065, -0.021505586802959442, -0.02834266982972622, -0.028846915811300278, 0.03835313394665718, -0.017468659207224846, 0.052485328167676926, -0.07487601041793823, -0.03125973045825958, 0.02184152603149414, -0.03989565744996071, -0.008587096817791462, 0.02695663832128048, -0.048495545983314514, 0.011469912715256214, 0.02961827628314495, -0.020572179928421974, 0.013103882782161236, 0.028833378106355667, -3.1941990848222185e-33, 0.0647820234298706, -0.018130196258425713, 0.051789917051792145, 0.12198268622159958, 0.028780188411474228, 0.00872196163982153, -0.07052116841077805, -0.01690729148685932, 0.04073970019817352, 0.04211623594164848, 0.025447238236665726, 0.03574622422456741, -0.049144767224788666, 0.0021290669683367014, -0.015546604990959167, 0.05073060467839241, -0.048185333609580994, 0.03588059917092323, -0.004067101515829563, 0.10172473639249802, -0.055970050394535065, -0.010680983774363995, 0.01123580802232027, 0.09068651497364044, 0.004234516993165016, 0.035138655453920364, -0.009702876210212708, -0.09386523813009262, 0.0928555354475975, 0.008004949428141117, -0.007705435622483492, -0.05208674073219299, -0.012587915174663067, 0.003266916610300541, 0.006013554986566305, 0.007581654004752636, 0.010517142713069916, -0.08634550124406815, -0.06987874954938889, -0.0025338525883853436, -0.09097655862569809, 0.04688737168908119, 0.05207652598619461, 0.007193929981440306, 0.010903562419116497, -0.005229528062045574, 0.013937344774603844, 0.021968327462673187, 0.03420858830213547, 0.06022461876273155, 0.00011665988859022036, 0.01473192311823368, -0.07008920609951019, 0.028498999774456024, -0.027601659297943115, 0.010768393985927105, 0.0348309762775898, -0.022487923502922058, 0.0097690774127841, 0.07722783833742142, 0.021588318049907684, 0.11495625227689743, -0.06800111383199692, 0.023760966956615448, -0.015983959659934044, -0.0178269874304533, 0.06439492851495743, 0.03202574700117111, 0.05027028173208237, -0.005913654342293739, -0.03370799124240875, 0.017840353772044182, 0.016573378816246986, 0.06329648941755295, 0.03467715531587601, 0.046473436057567596, 0.09790609776973724, -0.006635486148297787, 0.02520710602402687, -0.0779883861541748, 0.016926417127251625, -0.0009458284475840628, 0.022471871227025986, -0.03825321048498154, 0.09570472687482834, -0.00535074295476079, 0.010469051077961922, -0.11524049192667007, -0.013262542895972729, -0.01070944219827652, -0.08311717957258224, 0.07327358424663544, 0.04939223825931549, -0.008994386531412601, -0.09584561735391617, 3.3661496637765335e-33, 0.12493179738521576, 0.019349703565239906, -0.05822577700018883, -0.03598824515938759, -0.050746798515319824, -0.04566236957907677, -0.08260342478752136, 0.1481947898864746, -0.08842115104198456, 0.06027446314692497, 0.05103021115064621, 0.010303115472197533, 0.14121420681476593, 0.03081383742392063, 0.06103309988975525, -0.05285128578543663, 0.13664889335632324, 0.009189948439598083, -0.01732528954744339, -0.012848681770265102, -0.007995311170816422, -0.050980065017938614, -0.05235065147280693, 0.007593043148517609, -0.015166240744292736, 0.01696033589541912, 0.021270539611577988, 0.020557954907417297, -0.120028056204319, 0.014461790211498737, 0.02675986848771572, 0.02533058077096939, -0.042754679918289185, 0.006768417544662952, -0.01445853617042303, 0.04526202008128166, -0.09147654473781586, -0.01943916454911232, -0.01783345267176628, -0.054910141974687576, -0.05264107137918472, -0.01045902632176876, -0.05201607197523117, 0.020892055705189705, -0.07997030764818192, -0.012111273594200611, -0.05773138254880905, 0.023178230971097946, -0.00803165789693594, -0.02598930336534977, -0.07995672523975372, -0.020728854462504387, 0.048817723989486694, -0.020389122888445854, -0.04917661473155022, 0.014159675687551498, -0.0636221170425415, -0.007807421498000622, 0.016431616619229317, -0.02568255551159382, 0.013381063006818295, 0.026248736307024956, 0.00997837819159031, 0.06322892010211945, 0.0026720785535871983, -0.006582704838365316, 0.016631996259093285, 0.03236640989780426, 0.037942495197057724, -0.03637604042887688, -0.006910909898579121, 0.00015969928062986583, -0.0016335337422788143, -0.027278201654553413, -0.02803804725408554, 0.049681488424539566, -0.02886715717613697, -0.0024180987384170294, 0.014774884097278118, 0.009764542803168297, 0.0057974993251264095, 0.013486141338944435, 0.005567886866629124, 0.037227120250463486, 0.007232499308884144, 0.04015624150633812, 0.0815032348036766, 0.07199165225028992, -0.013056132011115551, -0.04288201406598091, -0.011011232621967793, 0.004897789563983679, -0.009229726158082485, 0.03519146144390106, -0.05103498324751854, -1.5714372025854573e-08, -0.08862444013357162, 0.023909321054816246, -0.016238776966929436, 0.031700462102890015, 0.027284180745482445, 0.05246884375810623, -0.04707097262144089, -0.058847468346357346, -0.0632082149386406, 0.04088855907320976, 0.04982791841030121, 0.10655173659324646, -0.07450231909751892, -0.012495468370616436, 0.01837063580751419, 0.039474163204431534, -0.024797825142741203, 0.014516275376081467, -0.03706921637058258, 0.020015733316540718, -4.8646339564584196e-05, 0.009866569191217422, 0.024838745594024658, -0.052458085119724274, 0.029314151033759117, -0.08719196170568466, -0.01449973601847887, 0.02601909078657627, -0.018746405839920044, -0.07620510458946228, 0.03504328057169914, 0.10363955795764923, -0.02805054932832718, 0.012718278914690018, -0.07632548362016678, -0.018652405589818954, 0.024976741522550583, 0.0814453661441803, 0.06875891983509064, -0.06405658274888992, -0.08389391005039215, 0.06136239692568779, -0.0335455983877182, -0.10615336894989014, -0.040080539882183075, 0.03253021463751793, 0.07662483304738998, -0.07301618158817291, 0.0003375838277861476, -0.04087159410119057, -0.07578842341899872, 0.02752765640616417, 0.07462547719478607, 0.01771731488406658, 0.09121842682361603, 0.11022023111581802, 0.0005698127206414938, 0.05146336182951927, -0.014551237225532532, 0.03323199227452278, 0.023792246356606483, -0.02288980223238468, 0.03893755376338959, 0.03020680882036686]\n"
     ]
    }
   ],
   "source": [
    "query=embed.embed_query(\"Hello world\")\n",
    "print(query)"
   ]
  },
  {
   "cell_type": "code",
   "execution_count": 44,
   "metadata": {},
   "outputs": [],
   "source": [
    "from dotenv import load_dotenv\n",
    "load_dotenv()\n",
    "PINECONE_API_KEY=os.environ.get('PINECONE_API_KEY')"
   ]
  },
  {
   "cell_type": "code",
   "execution_count": 45,
   "metadata": {},
   "outputs": [],
   "source": [
    "from pinecone import Pinecone, ServerlessSpec\n",
    "\n",
    "pc = Pinecone(api_key=PINECONE_API_KEY)\n",
    "\n",
    "index_name = \"cancerbot\"\n",
    "\n",
    "pc.create_index(\n",
    "    name=index_name,\n",
    "    dimension=384, # Replace with your model dimensions\n",
    "    metric=\"cosine\", # Replace with your model metric\n",
    "    spec=ServerlessSpec(\n",
    "        cloud=\"aws\",\n",
    "        region=\"us-east-1\"\n",
    "    ) \n",
    ")"
   ]
  },
  {
   "cell_type": "code",
   "execution_count": 46,
   "metadata": {},
   "outputs": [],
   "source": [
    "os.environ[\"PINECONE_API_KEY\"]=PINECONE_API_KEY"
   ]
  },
  {
   "cell_type": "code",
   "execution_count": 49,
   "metadata": {},
   "outputs": [],
   "source": [
    "from langchain_pinecone import PineconeVectorStore\n",
    "\n",
    "docsearch = PineconeVectorStore.from_documents(\n",
    "    documents=text_chunks,\n",
    "    index_name=index_name,\n",
    "    embedding=embed\n",
    ")"
   ]
  },
  {
   "cell_type": "code",
   "execution_count": null,
   "metadata": {},
   "outputs": [],
   "source": [
    "docsearch=PineconeVectorStore.from_existing_index(\n",
    "    index_name=index_name,\n",
    "    embedding=embed\n",
    ")"
   ]
  },
  {
   "cell_type": "code",
   "execution_count": 51,
   "metadata": {},
   "outputs": [
    {
     "data": {
      "text/plain": [
       "<langchain_pinecone.vectorstores.PineconeVectorStore at 0x12273c9cf10>"
      ]
     },
     "execution_count": 51,
     "metadata": {},
     "output_type": "execute_result"
    }
   ],
   "source": [
    "docsearch"
   ]
  },
  {
   "cell_type": "code",
   "execution_count": 52,
   "metadata": {},
   "outputs": [],
   "source": [
    "retriever = docsearch.as_retriever(search_type=\"similarity\", search_kwargs={\"k\":3})\n"
   ]
  },
  {
   "cell_type": "code",
   "execution_count": 107,
   "metadata": {},
   "outputs": [],
   "source": [
    "rdoc= retriever.invoke(\"How do 2D and 3D mammograms differ\")"
   ]
  },
  {
   "cell_type": "code",
   "execution_count": null,
   "metadata": {},
   "outputs": [],
   "source": [
    "pip install langchain_mistralai"
   ]
  },
  {
   "cell_type": "code",
   "execution_count": 80,
   "metadata": {},
   "outputs": [
    {
     "name": "stdout",
     "output_type": "stream",
     "text": [
      "None\n"
     ]
    }
   ],
   "source": [
    "MISTRAL_API=os.environ.get('MISTRAL_API_KEY')\n",
    "print(MISTRAL_API)"
   ]
  },
  {
   "cell_type": "code",
   "execution_count": 95,
   "metadata": {},
   "outputs": [],
   "source": [
    "from langchain_mistralai import ChatMistralAI\n",
    "llm=ChatMistralAI(\n",
    "    temperature=0.2,\n",
    "    max_tokens=500,\n",
    "    api_key=\"xh304k1RPHj82gpPeJyj47dSJ5xNkx1C\"\n",
    ")"
   ]
  },
  {
   "cell_type": "code",
   "execution_count": 68,
   "metadata": {},
   "outputs": [],
   "source": [
    "from langchain.chains import create_retrieval_chain\n",
    "from langchain.chains.combine_documents import create_stuff_documents_chain\n",
    "from langchain_core.prompts import  ChatPromptTemplate"
   ]
  },
  {
   "cell_type": "code",
   "execution_count": 99,
   "metadata": {},
   "outputs": [],
   "source": [
    "system_prompt= (\n",
    "    '''You are an AI assistant for answering queries of people having doubts related to breast cancer.\n",
    "    Use only information from the below given document only do not say anything outside this document.\n",
    "    Use at least 3 to 4 sentences when answering and be as polite as possible with the user. here is your document for reference\n",
    "    If you do not know the answer from the document say that your knowledge base does not contain that requested information.\n",
    "    if the question is irrelevant politely say to the user that the question they have asked is irrelevant to your use case   \n",
    "    '''\n",
    "    \"{context}\"\n",
    ")\n",
    "\n",
    "prompt= ChatPromptTemplate.from_messages(\n",
    "    [\n",
    "        (\"system\",system_prompt),\n",
    "        (\"user\",\"{input}\")\n",
    "    ]\n",
    ")"
   ]
  },
  {
   "cell_type": "code",
   "execution_count": 100,
   "metadata": {},
   "outputs": [],
   "source": [
    "question_answer_chain = create_stuff_documents_chain(llm,prompt)\n",
    "rag_chain = create_retrieval_chain(retriever,question_answer_chain)"
   ]
  },
  {
   "cell_type": "code",
   "execution_count": 110,
   "metadata": {},
   "outputs": [
    {
     "name": "stdout",
     "output_type": "stream",
     "text": [
      "Breast cancer is a type of cancer that develops in the cells of the breast. It occurs when abnormal cells in the breast grow in an uncontrolled way, often forming a tumor that can be felt as a lump or detected on a mammogram. The exact cause of breast cancer is not known, but risk factors include gender, age, genetics, and personal health history. If you suspect you may have breast cancer, it is important to consult with a healthcare professional who can provide a diagnosis and treatment options. (Reference: www.cancer.org/cancer/breast-cancer/understanding-a-breast-cancer-diagnosis.html)\n"
     ]
    }
   ],
   "source": [
    "response=rag_chain.invoke({\"input\":\"what is breast cancer?\"})\n",
    "print(response[\"answer\"])"
   ]
  }
 ],
 "metadata": {
  "kernelspec": {
   "display_name": "base",
   "language": "python",
   "name": "python3"
  },
  "language_info": {
   "codemirror_mode": {
    "name": "ipython",
    "version": 3
   },
   "file_extension": ".py",
   "mimetype": "text/x-python",
   "name": "python",
   "nbconvert_exporter": "python",
   "pygments_lexer": "ipython3",
   "version": "3.11.5"
  }
 },
 "nbformat": 4,
 "nbformat_minor": 2
}
